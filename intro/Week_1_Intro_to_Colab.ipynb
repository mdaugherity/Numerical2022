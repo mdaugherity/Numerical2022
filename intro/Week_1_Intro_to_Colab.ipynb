{
  "nbformat": 4,
  "nbformat_minor": 0,
  "metadata": {
    "colab": {
      "provenance": [],
      "collapsed_sections": [],
      "authorship_tag": "ABX9TyOHlAzhxjETJzBCJc81U4Pb",
      "include_colab_link": true
    },
    "kernelspec": {
      "name": "python3",
      "display_name": "Python 3"
    },
    "language_info": {
      "name": "python"
    }
  },
  "cells": [
    {
      "cell_type": "markdown",
      "metadata": {
        "id": "view-in-github",
        "colab_type": "text"
      },
      "source": [
        "<a href=\"https://colab.research.google.com/github/mdaugherity/Numerical2022/blob/main/intro/Week_1_Intro_to_Colab.ipynb\" target=\"_parent\"><img src=\"https://colab.research.google.com/assets/colab-badge.svg\" alt=\"Open In Colab\"/></a>"
      ]
    },
    {
      "cell_type": "markdown",
      "source": [
        "# Intro to Google Colab\n",
        "##PHYS 351 - Applied Numerical Methods\n",
        "##Dr. Daugherity, Abilene Christian University\n",
        "\n",
        "A quick cheatsheet for doing python in Google Colab\n"
      ],
      "metadata": {
        "id": "lN_DJ1U9Dv37"
      }
    },
    {
      "cell_type": "markdown",
      "source": [
        "# Text Cells"
      ],
      "metadata": {
        "id": "jV4bFoxlEH8Y"
      }
    },
    {
      "cell_type": "markdown",
      "source": [
        "#This is a title\n",
        "##This is a subtitle\n",
        "###This is a subsubtitle\n",
        "\n",
        "**PHYS 351** - *Fall 2022*\n",
        "\n",
        "Intro to Google Colab\n",
        "\n",
        "We can make lists:\n",
        "* Item 1\n",
        "* Item 2\n",
        "\n",
        "We can add links:  [GOOGLE](https://www.google.com)\n",
        "\n",
        "We can also do MATH:\n",
        "$x=2, \\alpha=x^{2}, \\frac{x^3}{b_{1}^{y^3}} $ \n",
        "\n",
        "\n",
        "\n"
      ],
      "metadata": {
        "id": "IVlXvURk2RM0"
      }
    },
    {
      "cell_type": "markdown",
      "source": [
        "# Basic Python"
      ],
      "metadata": {
        "id": "oZZYzd6d4Bhs"
      }
    },
    {
      "cell_type": "code",
      "execution_count": null,
      "metadata": {
        "id": "3AnIj-461zSe"
      },
      "outputs": [],
      "source": [
        "x = 42\n",
        "x = 'apples'\n",
        "x = [42, 'apples', 'steve']"
      ]
    },
    {
      "cell_type": "code",
      "source": [
        "x"
      ],
      "metadata": {
        "colab": {
          "base_uri": "https://localhost:8080/"
        },
        "id": "rnxOd50Q4JUU",
        "outputId": "8eecad1a-1a9e-4d65-8131-15dbab2757c6"
      },
      "execution_count": null,
      "outputs": [
        {
          "output_type": "execute_result",
          "data": {
            "text/plain": [
              "[42, 'apples', 'steve']"
            ]
          },
          "metadata": {},
          "execution_count": 2
        }
      ]
    },
    {
      "cell_type": "code",
      "source": [
        "print(x)"
      ],
      "metadata": {
        "colab": {
          "base_uri": "https://localhost:8080/"
        },
        "id": "bM0BgLJu4UMM",
        "outputId": "fd3afb39-e465-4c8e-b6c5-ccc1b3dbefba"
      },
      "execution_count": null,
      "outputs": [
        {
          "output_type": "stream",
          "name": "stdout",
          "text": [
            "[42, 'apples', 'steve']\n"
          ]
        }
      ]
    },
    {
      "cell_type": "markdown",
      "source": [
        "# LOGIC\n",
        "REMEMBER that whitespace **matters**!"
      ],
      "metadata": {
        "id": "xRMcfxzH4XNU"
      }
    },
    {
      "cell_type": "code",
      "source": [
        "x = -4\n",
        "if x>0:\n",
        "  print('positive')\n",
        "else:\n",
        "  print('negative')"
      ],
      "metadata": {
        "colab": {
          "base_uri": "https://localhost:8080/"
        },
        "id": "giTWdhJx4YXk",
        "outputId": "134fd68a-a71a-422f-b3f0-9008f7ca7c39"
      },
      "execution_count": null,
      "outputs": [
        {
          "output_type": "stream",
          "name": "stdout",
          "text": [
            "negative\n"
          ]
        }
      ]
    },
    {
      "cell_type": "code",
      "source": [
        "x=1\n",
        "y=1\n",
        "if x>0 and y>0:\n",
        "  print('Both positive')"
      ],
      "metadata": {
        "colab": {
          "base_uri": "https://localhost:8080/"
        },
        "id": "epIH65y_42mM",
        "outputId": "86a0c947-c02e-48d4-f10d-49db87b18bff"
      },
      "execution_count": null,
      "outputs": [
        {
          "output_type": "stream",
          "name": "stdout",
          "text": [
            "Both positive\n"
          ]
        }
      ]
    },
    {
      "cell_type": "code",
      "source": [],
      "metadata": {
        "id": "bGO4mooT5C7F"
      },
      "execution_count": null,
      "outputs": []
    },
    {
      "cell_type": "markdown",
      "source": [
        "# Nice Output\n",
        "Lots of ways to do this, I like the f-string way"
      ],
      "metadata": {
        "id": "gABl2wej5GmE"
      }
    },
    {
      "cell_type": "code",
      "source": [
        "x = 3.14141241252352\n",
        "print(f\"The answer is {x}\")\n",
        "print(f\"The answer is {x:0.3f}\")   # padding.dec points\n",
        "print(f\"The answer is {x:0.3e}\")   # padding.dec points\n",
        "print(f\"The value is {123864129387641239:,}\")  # commas, wow!"
      ],
      "metadata": {
        "colab": {
          "base_uri": "https://localhost:8080/"
        },
        "id": "9iA-jhNd5IyE",
        "outputId": "bada6022-3667-4c84-ab39-41babd0a6e28"
      },
      "execution_count": null,
      "outputs": [
        {
          "output_type": "stream",
          "name": "stdout",
          "text": [
            "The answer is 3.14141241252352\n",
            "The answer is 3.141\n",
            "The answer is 3.141e+00\n",
            "The value is 123,864,129,387,641,239\n"
          ]
        }
      ]
    },
    {
      "cell_type": "markdown",
      "source": [
        "For more details you can read the documentation:  https://docs.python.org/3/library/string.html#formatspec\n"
      ],
      "metadata": {
        "id": "MDq6M9ddsEYS"
      }
    },
    {
      "cell_type": "markdown",
      "source": [
        "# Loops\n",
        "Confusing thing about loops: LOOPS ONLY WORK ON LISTS OF STUFF"
      ],
      "metadata": {
        "id": "x7KBWzo_6Lif"
      }
    },
    {
      "cell_type": "code",
      "source": [
        "for i in [0,1,2,3,'steve']:\n",
        "  print(i)"
      ],
      "metadata": {
        "colab": {
          "base_uri": "https://localhost:8080/"
        },
        "id": "Fe7yHnBC6X-_",
        "outputId": "f31cee4d-40d6-43c6-980d-f70b5c55182c"
      },
      "execution_count": null,
      "outputs": [
        {
          "output_type": "stream",
          "name": "stdout",
          "text": [
            "0\n",
            "1\n",
            "2\n",
            "3\n",
            "steve\n"
          ]
        }
      ]
    },
    {
      "cell_type": "code",
      "source": [
        "for i in range(5):\n",
        "  print(i)"
      ],
      "metadata": {
        "colab": {
          "base_uri": "https://localhost:8080/"
        },
        "id": "aJrDXqvw6o0R",
        "outputId": "70a7f31e-71f7-4e4c-cf38-068fad1b488a"
      },
      "execution_count": null,
      "outputs": [
        {
          "output_type": "stream",
          "name": "stdout",
          "text": [
            "0\n",
            "1\n",
            "2\n",
            "3\n",
            "4\n"
          ]
        }
      ]
    },
    {
      "cell_type": "code",
      "source": [
        "for i in range(3,5):\n",
        "  print(i)"
      ],
      "metadata": {
        "colab": {
          "base_uri": "https://localhost:8080/"
        },
        "id": "f_I9q4xP7F2G",
        "outputId": "e914ee74-8fac-4b32-f119-9039d5c9ec63"
      },
      "execution_count": null,
      "outputs": [
        {
          "output_type": "stream",
          "name": "stdout",
          "text": [
            "3\n",
            "4\n"
          ]
        }
      ]
    },
    {
      "cell_type": "code",
      "source": [
        "for i in range(0,10,2):\n",
        "  print(i)"
      ],
      "metadata": {
        "colab": {
          "base_uri": "https://localhost:8080/"
        },
        "id": "_A2928fI7H33",
        "outputId": "72eb39bc-5341-4788-f9c8-2b5f08b5e185"
      },
      "execution_count": null,
      "outputs": [
        {
          "output_type": "stream",
          "name": "stdout",
          "text": [
            "0\n",
            "2\n",
            "4\n",
            "6\n",
            "8\n"
          ]
        }
      ]
    },
    {
      "cell_type": "code",
      "source": [
        "x = 0\n",
        "while x<=5:\n",
        "  x = x+1\n",
        "  print(x)"
      ],
      "metadata": {
        "colab": {
          "base_uri": "https://localhost:8080/"
        },
        "id": "OJZqmgzD70l5",
        "outputId": "e4a3d293-4469-4e79-91f5-94e91dbf11e6"
      },
      "execution_count": null,
      "outputs": [
        {
          "output_type": "stream",
          "name": "stdout",
          "text": [
            "1\n",
            "2\n",
            "3\n",
            "4\n",
            "5\n",
            "6\n"
          ]
        }
      ]
    },
    {
      "cell_type": "markdown",
      "source": [
        "# ARRAYS!"
      ],
      "metadata": {
        "id": "aFJA-zhq8dBJ"
      }
    },
    {
      "cell_type": "code",
      "source": [
        "import numpy as np   # normally put this at the top!"
      ],
      "metadata": {
        "id": "6i3xlwyp8egB"
      },
      "execution_count": null,
      "outputs": []
    },
    {
      "cell_type": "code",
      "source": [
        "x = np.array([1,3,5])\n",
        "print(x)"
      ],
      "metadata": {
        "colab": {
          "base_uri": "https://localhost:8080/"
        },
        "id": "kqjGEBaU9OEK",
        "outputId": "d29fddbf-6218-4510-af84-5a0a47670eee"
      },
      "execution_count": null,
      "outputs": [
        {
          "output_type": "stream",
          "name": "stdout",
          "text": [
            "[1 3 5]\n"
          ]
        }
      ]
    },
    {
      "cell_type": "code",
      "source": [
        "x = np.array([[1,3,5],[7,9,11]])\n",
        "print(x)"
      ],
      "metadata": {
        "colab": {
          "base_uri": "https://localhost:8080/"
        },
        "id": "Rp4k-dnl9kOr",
        "outputId": "d498f1b9-a249-45ca-fd49-82ad1929705b"
      },
      "execution_count": null,
      "outputs": [
        {
          "output_type": "stream",
          "name": "stdout",
          "text": [
            "[[ 1  3  5]\n",
            " [ 7  9 11]]\n"
          ]
        }
      ]
    },
    {
      "cell_type": "code",
      "source": [
        "x = np.zeros(5)   # good for initializing arrays\n",
        "print(x)"
      ],
      "metadata": {
        "colab": {
          "base_uri": "https://localhost:8080/"
        },
        "id": "_2AKdAGK9zqi",
        "outputId": "d888dc1d-3829-4cd6-f13f-0257036bf362"
      },
      "execution_count": null,
      "outputs": [
        {
          "output_type": "stream",
          "name": "stdout",
          "text": [
            "[0. 0. 0. 0. 0.]\n"
          ]
        }
      ]
    },
    {
      "cell_type": "code",
      "source": [
        "x = np.arange(5)\n",
        "print(x)\n",
        "for i in x:\n",
        "  print(i)"
      ],
      "metadata": {
        "colab": {
          "base_uri": "https://localhost:8080/"
        },
        "id": "AiD8hiEI9_Bj",
        "outputId": "a485ef82-27c3-47f1-9129-f91971e21c7a"
      },
      "execution_count": null,
      "outputs": [
        {
          "output_type": "stream",
          "name": "stdout",
          "text": [
            "[0 1 2 3 4]\n",
            "0\n",
            "1\n",
            "2\n",
            "3\n",
            "4\n"
          ]
        }
      ]
    },
    {
      "cell_type": "code",
      "source": [
        "# Weird Array Tricks!\n",
        "x = np.arange(10)\n",
        "print(x)"
      ],
      "metadata": {
        "colab": {
          "base_uri": "https://localhost:8080/"
        },
        "id": "H1xctrcn-NVT",
        "outputId": "ed21dc2f-242f-4b45-b12f-be17a8fbc8e4"
      },
      "execution_count": null,
      "outputs": [
        {
          "output_type": "stream",
          "name": "stdout",
          "text": [
            "[0 1 2 3 4 5 6 7 8 9]\n"
          ]
        }
      ]
    },
    {
      "cell_type": "code",
      "source": [
        "x[0]"
      ],
      "metadata": {
        "colab": {
          "base_uri": "https://localhost:8080/"
        },
        "id": "0W6xCFJm-a6j",
        "outputId": "8057547a-da1f-4b9b-a177-d463db1a6779"
      },
      "execution_count": null,
      "outputs": [
        {
          "output_type": "execute_result",
          "data": {
            "text/plain": [
              "0"
            ]
          },
          "metadata": {},
          "execution_count": 18
        }
      ]
    },
    {
      "cell_type": "code",
      "source": [
        "x[-1]"
      ],
      "metadata": {
        "colab": {
          "base_uri": "https://localhost:8080/"
        },
        "id": "ozlZ7uDA-csz",
        "outputId": "509f1244-6acd-4bed-b017-221622b6b3b7"
      },
      "execution_count": null,
      "outputs": [
        {
          "output_type": "execute_result",
          "data": {
            "text/plain": [
              "9"
            ]
          },
          "metadata": {},
          "execution_count": 19
        }
      ]
    },
    {
      "cell_type": "code",
      "source": [
        "x[0:4]"
      ],
      "metadata": {
        "colab": {
          "base_uri": "https://localhost:8080/"
        },
        "id": "MCORXrpp-h5b",
        "outputId": "0a68f57f-5429-42db-fb30-ef1db1dec796"
      },
      "execution_count": null,
      "outputs": [
        {
          "output_type": "execute_result",
          "data": {
            "text/plain": [
              "array([0, 1, 2, 3])"
            ]
          },
          "metadata": {},
          "execution_count": 20
        }
      ]
    },
    {
      "cell_type": "code",
      "source": [
        "x[0:5:2]"
      ],
      "metadata": {
        "colab": {
          "base_uri": "https://localhost:8080/"
        },
        "id": "sIOxjRm4-nqs",
        "outputId": "31a0d826-58d8-436f-e82e-3ae4b5b8fb44"
      },
      "execution_count": null,
      "outputs": [
        {
          "output_type": "execute_result",
          "data": {
            "text/plain": [
              "array([0, 2, 4])"
            ]
          },
          "metadata": {},
          "execution_count": 21
        }
      ]
    },
    {
      "cell_type": "code",
      "source": [],
      "metadata": {
        "id": "-bLtaPmb-0qT"
      },
      "execution_count": null,
      "outputs": []
    }
  ]
}