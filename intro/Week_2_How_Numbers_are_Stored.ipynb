{
  "nbformat": 4,
  "nbformat_minor": 0,
  "metadata": {
    "colab": {
      "provenance": [],
      "collapsed_sections": [],
      "authorship_tag": "ABX9TyOioUlNPoTzF4/EMMPQHMVR",
      "include_colab_link": true
    },
    "kernelspec": {
      "name": "python3",
      "display_name": "Python 3"
    },
    "language_info": {
      "name": "python"
    }
  },
  "cells": [
    {
      "cell_type": "markdown",
      "metadata": {
        "id": "view-in-github",
        "colab_type": "text"
      },
      "source": [
        "<a href=\"https://colab.research.google.com/github/mdaugherity/Numerical2022/blob/main/intro/Week_2_How_Numbers_are_Stored.ipynb\" target=\"_parent\"><img src=\"https://colab.research.google.com/assets/colab-badge.svg\" alt=\"Open In Colab\"/></a>"
      ]
    },
    {
      "cell_type": "markdown",
      "source": [
        "# PHYS 351 - Applied Numerical\n",
        "Fall 2022, Dr. Daugherity\n",
        "\n",
        "Examples for how computers store numbers.  The moral for today:\n",
        "\n",
        "**COMPUTERS STORE APPROXIMATE VALUES, NOT EQUATIONS!**\n"
      ],
      "metadata": {
        "id": "GlF-hYrEp48f"
      }
    },
    {
      "cell_type": "code",
      "execution_count": null,
      "metadata": {
        "id": "D5RCy2cboyXr"
      },
      "outputs": [],
      "source": [
        "import numpy as np\n",
        "import matplotlib.pyplot as plt"
      ]
    },
    {
      "cell_type": "markdown",
      "source": [
        "# Warm-up\n",
        "Make this plot"
      ],
      "metadata": {
        "id": "AKITnLpcqZGx"
      }
    },
    {
      "cell_type": "code",
      "source": [
        "x = np.linspace(0,10,20)\n",
        "y1 = np.sin(x)\n",
        "y2 = np.cos(x)\n",
        "\n",
        "plt.plot(x,y1,'b-s',label='Sin')\n",
        "plt.plot(x,y2,'g:o',label='Cos')\n",
        "\n",
        "plt.title('Sin and Cos')\n",
        "plt.xlabel('x [m]')\n",
        "plt.ylabel('y [in]')\n",
        "plt.grid()\n",
        "\n",
        "plt.legend()\n",
        "plt.show()"
      ],
      "metadata": {
        "id": "ipr3jA2WqcMa",
        "colab": {
          "base_uri": "https://localhost:8080/",
          "height": 295
        },
        "outputId": "c3dacc59-6d78-4b6a-d7a0-a9ee13b30e4f"
      },
      "execution_count": null,
      "outputs": [
        {
          "output_type": "display_data",
          "data": {
            "text/plain": [
              "<Figure size 432x288 with 1 Axes>"
            ],
            "image/png": "[encoded data removed]"
          },
          "metadata": {
            "needs_background": "light"
          }
        }
      ]
    },
    {
      "cell_type": "markdown",
      "source": [
        "# The Problem\n",
        "Math is not exact in a computer!  Why?  Because the computer can only store 64-bit approximations of numbers"
      ],
      "metadata": {
        "id": "s-tiCZj6rt4c"
      }
    },
    {
      "cell_type": "code",
      "metadata": {
        "colab": {
          "base_uri": "https://localhost:8080/"
        },
        "id": "vrBB1mMxG3N2",
        "outputId": "88cb0e07-cceb-4f39-ed98-551174a6a1a3"
      },
      "source": [
        "2.6 + 0.6"
      ],
      "execution_count": null,
      "outputs": [
        {
          "output_type": "execute_result",
          "data": {
            "text/plain": [
              "3.2"
            ]
          },
          "metadata": {},
          "execution_count": 4
        }
      ]
    },
    {
      "cell_type": "code",
      "metadata": {
        "colab": {
          "base_uri": "https://localhost:8080/"
        },
        "id": "oiug2JAWG-K9",
        "outputId": "35c7480d-eac2-4355-bd19-5a9b0faa07ad"
      },
      "source": [
        "2.6 + 0.2 + 0.2 + 0.2"
      ],
      "execution_count": null,
      "outputs": [
        {
          "output_type": "execute_result",
          "data": {
            "text/plain": [
              "3.2000000000000006"
            ]
          },
          "metadata": {},
          "execution_count": 5
        }
      ]
    },
    {
      "cell_type": "code",
      "source": [
        "(2)**0.5"
      ],
      "metadata": {
        "colab": {
          "base_uri": "https://localhost:8080/"
        },
        "id": "LK0qsiFpr1oE",
        "outputId": "2e5ef6c4-d6e7-4f78-9ca0-52df82aad807"
      },
      "execution_count": null,
      "outputs": [
        {
          "output_type": "execute_result",
          "data": {
            "text/plain": [
              "1.4142135623730951"
            ]
          },
          "metadata": {},
          "execution_count": 6
        }
      ]
    },
    {
      "cell_type": "code",
      "source": [
        "(2)**0.5 * (2)**0.5"
      ],
      "metadata": {
        "colab": {
          "base_uri": "https://localhost:8080/"
        },
        "id": "2yE5qmjlr37E",
        "outputId": "8e5a9ee2-05c7-49f0-f01b-17d952238aed"
      },
      "execution_count": null,
      "outputs": [
        {
          "output_type": "execute_result",
          "data": {
            "text/plain": [
              "2.0000000000000004"
            ]
          },
          "metadata": {},
          "execution_count": 7
        }
      ]
    },
    {
      "cell_type": "code",
      "source": [
        "(2)**0.5 * (2)**0.5 - 2"
      ],
      "metadata": {
        "colab": {
          "base_uri": "https://localhost:8080/"
        },
        "id": "iFI-sHt0r6jN",
        "outputId": "f6c99a7d-4943-4d81-ac7c-2a28f46ac1ac"
      },
      "execution_count": null,
      "outputs": [
        {
          "output_type": "execute_result",
          "data": {
            "text/plain": [
              "4.440892098500626e-16"
            ]
          },
          "metadata": {},
          "execution_count": 8
        }
      ]
    },
    {
      "cell_type": "markdown",
      "source": [
        "# Representation\n",
        "You need to be comfortable with binary (base 2) and hex (base 16).  Python can help."
      ],
      "metadata": {
        "id": "11waLV6wr8U4"
      }
    },
    {
      "cell_type": "code",
      "source": [
        "bin(26)"
      ],
      "metadata": {
        "colab": {
          "base_uri": "https://localhost:8080/",
          "height": 35
        },
        "id": "4bx7tSCLr-Mc",
        "outputId": "09ed3840-744d-4b40-e569-c21312e076c4"
      },
      "execution_count": null,
      "outputs": [
        {
          "output_type": "execute_result",
          "data": {
            "text/plain": [
              "'0b11010'"
            ],
            "application/vnd.google.colaboratory.intrinsic+json": {
              "type": "string"
            }
          },
          "metadata": {},
          "execution_count": 9
        }
      ]
    },
    {
      "cell_type": "code",
      "source": [
        "0b11010"
      ],
      "metadata": {
        "colab": {
          "base_uri": "https://localhost:8080/"
        },
        "id": "w3SGnHFN3WCB",
        "outputId": "dd65cc09-a1c7-4946-d0b2-8ea53b54c296"
      },
      "execution_count": null,
      "outputs": [
        {
          "output_type": "execute_result",
          "data": {
            "text/plain": [
              "26"
            ]
          },
          "metadata": {},
          "execution_count": 10
        }
      ]
    },
    {
      "cell_type": "code",
      "source": [
        "0b0010101011001011010101010110101011010"
      ],
      "metadata": {
        "colab": {
          "base_uri": "https://localhost:8080/"
        },
        "id": "Au2vDUYk3ZvB",
        "outputId": "d91c4cec-aaf8-41af-d20a-d150a8756b70"
      },
      "execution_count": null,
      "outputs": [
        {
          "output_type": "execute_result",
          "data": {
            "text/plain": [
              "22974999898"
            ]
          },
          "metadata": {},
          "execution_count": 11
        }
      ]
    },
    {
      "cell_type": "code",
      "source": [
        "4*256+11*16+7"
      ],
      "metadata": {
        "colab": {
          "base_uri": "https://localhost:8080/"
        },
        "id": "aBH_rNYO5J1F",
        "outputId": "19478fd4-dcb8-461a-8a9f-283efe8b1d8c"
      },
      "execution_count": null,
      "outputs": [
        {
          "output_type": "execute_result",
          "data": {
            "text/plain": [
              "1207"
            ]
          },
          "metadata": {},
          "execution_count": 12
        }
      ]
    },
    {
      "cell_type": "code",
      "source": [
        "0x4B7"
      ],
      "metadata": {
        "colab": {
          "base_uri": "https://localhost:8080/"
        },
        "id": "cGOXXBSRsWqO",
        "outputId": "05aaaa69-f2be-46e5-d28d-d95d904971b8"
      },
      "execution_count": null,
      "outputs": [
        {
          "output_type": "execute_result",
          "data": {
            "text/plain": [
              "1207"
            ]
          },
          "metadata": {},
          "execution_count": 13
        }
      ]
    },
    {
      "cell_type": "code",
      "source": [
        "bin(1207)\n"
      ],
      "metadata": {
        "colab": {
          "base_uri": "https://localhost:8080/",
          "height": 35
        },
        "id": "0S5cjsyW5P5s",
        "outputId": "058022c9-0a53-4084-b4e8-e9beab528052"
      },
      "execution_count": null,
      "outputs": [
        {
          "output_type": "execute_result",
          "data": {
            "text/plain": [
              "'0b10010110111'"
            ],
            "application/vnd.google.colaboratory.intrinsic+json": {
              "type": "string"
            }
          },
          "metadata": {},
          "execution_count": 14
        }
      ]
    },
    {
      "cell_type": "code",
      "source": [
        "bin(1207)"
      ],
      "metadata": {
        "id": "DwR_XhB-sXq-",
        "colab": {
          "base_uri": "https://localhost:8080/",
          "height": 35
        },
        "outputId": "eaaff0cd-329b-47be-b20e-598a91de6b97"
      },
      "execution_count": null,
      "outputs": [
        {
          "output_type": "execute_result",
          "data": {
            "text/plain": [
              "'0b10010110111'"
            ],
            "application/vnd.google.colaboratory.intrinsic+json": {
              "type": "string"
            }
          },
          "metadata": {},
          "execution_count": 15
        }
      ]
    },
    {
      "cell_type": "code",
      "source": [
        "2**1023"
      ],
      "metadata": {
        "colab": {
          "base_uri": "https://localhost:8080/"
        },
        "id": "Uf7lBD6a9eHW",
        "outputId": "f85c3cf1-fec6-4ca7-f391-5bbd15111e03"
      },
      "execution_count": null,
      "outputs": [
        {
          "output_type": "execute_result",
          "data": {
            "text/plain": [
              "89884656743115795386465259539451236680898848947115328636715040578866337902750481566354238661203768010560056939935696678829394884407208311246423715319737062188883946712432742638151109800623047059726541476042502884419075341171231440736956555270413618581675255342293149119973622969239858152417678164812112068608"
            ]
          },
          "metadata": {},
          "execution_count": 16
        }
      ]
    },
    {
      "cell_type": "code",
      "source": [
        "2**-1023"
      ],
      "metadata": {
        "colab": {
          "base_uri": "https://localhost:8080/"
        },
        "id": "NUTeK59l9iVA",
        "outputId": "b8661a24-21ba-4d9c-f044-a3029b0a5776"
      },
      "execution_count": null,
      "outputs": [
        {
          "output_type": "execute_result",
          "data": {
            "text/plain": [
              "1.1125369292536007e-308"
            ]
          },
          "metadata": {},
          "execution_count": 17
        }
      ]
    },
    {
      "cell_type": "code",
      "source": [
        "float.hex(26.0)"
      ],
      "metadata": {
        "colab": {
          "base_uri": "https://localhost:8080/",
          "height": 35
        },
        "id": "fB2trIlysBTh",
        "outputId": "1e3cf13e-c268-457f-a161-c6c8fec85d22"
      },
      "execution_count": null,
      "outputs": [
        {
          "output_type": "execute_result",
          "data": {
            "text/plain": [
              "'0x1.a000000000000p+4'"
            ],
            "application/vnd.google.colaboratory.intrinsic+json": {
              "type": "string"
            }
          },
          "metadata": {},
          "execution_count": 18
        }
      ]
    },
    {
      "cell_type": "code",
      "source": [
        "print( float.hex((2**0.5)  * (2**0.5)) )\n",
        "print( float.hex(2.0) )"
      ],
      "metadata": {
        "id": "HqtBkLpmsSqc",
        "colab": {
          "base_uri": "https://localhost:8080/"
        },
        "outputId": "a25f8a8f-9319-41ee-9fa0-bf7e6ebcef21"
      },
      "execution_count": null,
      "outputs": [
        {
          "output_type": "stream",
          "name": "stdout",
          "text": [
            "0x1.0000000000001p+1\n",
            "0x1.0000000000000p+1\n"
          ]
        }
      ]
    },
    {
      "cell_type": "code",
      "source": [],
      "metadata": {
        "id": "SPNnyvKBsWKm"
      },
      "execution_count": null,
      "outputs": []
    },
    {
      "cell_type": "markdown",
      "source": [
        "# Machine Epsilon\n",
        "Find the **largest** possible number that we can add to 1 and not change any bits:   \n",
        "$1 + ϵ = 1$\n"
      ],
      "metadata": {
        "id": "O3NW7LRqsKdX"
      }
    },
    {
      "cell_type": "code",
      "source": [
        "1 + 1e-16"
      ],
      "metadata": {
        "colab": {
          "base_uri": "https://localhost:8080/"
        },
        "id": "SL0to9zH_jjJ",
        "outputId": "a4898785-5bed-4894-c8bb-a23e79f79a6a"
      },
      "execution_count": null,
      "outputs": [
        {
          "output_type": "execute_result",
          "data": {
            "text/plain": [
              "1.0"
            ]
          },
          "metadata": {},
          "execution_count": 20
        }
      ]
    },
    {
      "cell_type": "code",
      "source": [
        "print( float.hex(1.0))\n",
        "print( float.hex(1.0 + 1e-10))\n",
        "print( float.hex(1.0 + 1e-15))\n",
        "print( float.hex(1.0 + 1e-16))"
      ],
      "metadata": {
        "colab": {
          "base_uri": "https://localhost:8080/"
        },
        "id": "LXA6VTR9sMQS",
        "outputId": "ecbad254-be9c-4602-8a35-75875ae2ed2d"
      },
      "execution_count": null,
      "outputs": [
        {
          "output_type": "stream",
          "name": "stdout",
          "text": [
            "0x1.0000000000000p+0\n",
            "0x1.000000006df38p+0\n",
            "0x1.0000000000005p+0\n",
            "0x1.0000000000000p+0\n"
          ]
        }
      ]
    },
    {
      "cell_type": "code",
      "source": [
        "np.finfo(float).eps"
      ],
      "metadata": {
        "colab": {
          "base_uri": "https://localhost:8080/"
        },
        "id": "lyyOHEHMsd_L",
        "outputId": "b2710ecd-ef97-4491-fade-7e7fe805b10a"
      },
      "execution_count": null,
      "outputs": [
        {
          "output_type": "execute_result",
          "data": {
            "text/plain": [
              "2.220446049250313e-16"
            ]
          },
          "metadata": {},
          "execution_count": 22
        }
      ]
    },
    {
      "cell_type": "code",
      "source": [
        "np.finfo(float)"
      ],
      "metadata": {
        "colab": {
          "base_uri": "https://localhost:8080/"
        },
        "id": "sMPcUdjbsf_Z",
        "outputId": "9a32a407-2b95-44ca-e2cc-7d2177ec9469"
      },
      "execution_count": null,
      "outputs": [
        {
          "output_type": "execute_result",
          "data": {
            "text/plain": [
              "finfo(resolution=1e-15, min=-1.7976931348623157e+308, max=1.7976931348623157e+308, dtype=float64)"
            ]
          },
          "metadata": {},
          "execution_count": 23
        }
      ]
    },
    {
      "cell_type": "markdown",
      "source": [
        "# Equality\n",
        "WARNING!  Danger lies below."
      ],
      "metadata": {
        "id": "qPnijsZvThrQ"
      }
    },
    {
      "cell_type": "code",
      "source": [
        "x = 3.2\n",
        "y = 2.6 + 0.2 + 0.2 + 0.2\n",
        "if(x==y):\n",
        "  print(\"equal\")\n",
        "else:\n",
        "  print(\"nope\")"
      ],
      "metadata": {
        "colab": {
          "base_uri": "https://localhost:8080/"
        },
        "id": "KuWYDNyWTqJN",
        "outputId": "5784e070-3eb5-49e6-fbff-ec748bf12404"
      },
      "execution_count": null,
      "outputs": [
        {
          "output_type": "stream",
          "name": "stdout",
          "text": [
            "nope\n"
          ]
        }
      ]
    },
    {
      "cell_type": "code",
      "source": [
        "x = 2\n",
        "y = (2)**0.5 * (2)**0.5\n",
        "print(x==y)"
      ],
      "metadata": {
        "colab": {
          "base_uri": "https://localhost:8080/"
        },
        "id": "Dn0ecNXNT20s",
        "outputId": "827112f4-a60d-47fe-89c1-2ba955a53bc9"
      },
      "execution_count": null,
      "outputs": [
        {
          "output_type": "stream",
          "name": "stdout",
          "text": [
            "False\n"
          ]
        }
      ]
    },
    {
      "cell_type": "markdown",
      "source": [
        "BE VERY CAREFUL in checking if two floating-point numbers are equal!\n",
        "\n",
        "**NEVER** just check for x==y, instead check that they are close enough\n",
        " "
      ],
      "metadata": {
        "id": "mpTrvHPLSslv"
      }
    },
    {
      "cell_type": "code",
      "source": [
        "x==y"
      ],
      "metadata": {
        "id": "41QPu1oFTWbE",
        "outputId": "8e37aa18-63ee-4af6-aecb-a0cde15707d8",
        "colab": {
          "base_uri": "https://localhost:8080/"
        }
      },
      "execution_count": null,
      "outputs": [
        {
          "output_type": "execute_result",
          "data": {
            "text/plain": [
              "False"
            ]
          },
          "metadata": {},
          "execution_count": 26
        }
      ]
    },
    {
      "cell_type": "code",
      "source": [
        "np.abs(x-y)<1e-12"
      ],
      "metadata": {
        "id": "vSyV4quqTIPj",
        "outputId": "3023f29a-79f0-46cc-8634-6de949b8bcd5",
        "colab": {
          "base_uri": "https://localhost:8080/"
        }
      },
      "execution_count": null,
      "outputs": [
        {
          "output_type": "execute_result",
          "data": {
            "text/plain": [
              "True"
            ]
          },
          "metadata": {},
          "execution_count": 27
        }
      ]
    },
    {
      "cell_type": "code",
      "source": [
        "np.allclose(x,y)   "
      ],
      "metadata": {
        "id": "ZOufQt8MSm3O",
        "outputId": "d206929c-c362-4e19-9375-955706ca9b5d",
        "colab": {
          "base_uri": "https://localhost:8080/"
        }
      },
      "execution_count": null,
      "outputs": [
        {
          "output_type": "execute_result",
          "data": {
            "text/plain": [
              "True"
            ]
          },
          "metadata": {},
          "execution_count": 28
        }
      ]
    },
    {
      "cell_type": "markdown",
      "source": [
        "# Sumup vs Sumdown\n",
        "A nefarious example"
      ],
      "metadata": {
        "id": "Dd4T9sxisgWY"
      }
    },
    {
      "cell_type": "code",
      "source": [
        "# Sum up vs sum down\n",
        "N = 1000\n",
        "sumup = 0\n",
        "for i in range(1,N):   # make sure to skip zero!\n",
        "  sumup+=1/i\n",
        "\n",
        "sumdown = 0\n",
        "for i in range(N-1,0,-1):  # counts down from N-1 to 1 \n",
        "  sumdown +=1/i\n",
        "\n",
        "print(sumup)\n",
        "print(sumdown)\n",
        "print(sumup-sumdown)"
      ],
      "metadata": {
        "colab": {
          "base_uri": "https://localhost:8080/"
        },
        "id": "ZgxlOoN9sjxE",
        "outputId": "7d594da8-4ae1-4fd8-9011-9dc03aa1092c"
      },
      "execution_count": null,
      "outputs": [
        {
          "output_type": "stream",
          "name": "stdout",
          "text": [
            "7.484470860550343\n",
            "7.484470860550341\n",
            "1.7763568394002505e-15\n"
          ]
        }
      ]
    }
  ]
}