{
  "nbformat": 4,
  "nbformat_minor": 0,
  "metadata": {
    "colab": {
      "provenance": [],
      "collapsed_sections": [],
      "authorship_tag": "ABX9TyO+HDfggBfFs8dPx+vJZOOb",
      "include_colab_link": true
    },
    "kernelspec": {
      "name": "python3",
      "display_name": "Python 3"
    }
  },
  "cells": [
    {
      "cell_type": "markdown",
      "metadata": {
        "id": "view-in-github",
        "colab_type": "text"
      },
      "source": [
        "<a href=\"https://colab.research.google.com/github/mdaugherity/Numerical2022/blob/main/intro/LaTeX_Crash_Course.ipynb\" target=\"_parent\"><img src=\"https://colab.research.google.com/assets/colab-badge.svg\" alt=\"Open In Colab\"/></a>"
      ]
    },
    {
      "cell_type": "markdown",
      "source": [
        "# Latex Crash Course!\n",
        "How to make nice, pretty math"
      ],
      "metadata": {
        "id": "VKtX0aZ5DJD3"
      }
    },
    {
      "cell_type": "markdown",
      "metadata": {
        "id": "p0-e_-n350bQ"
      },
      "source": [
        "You can write equations in the text cells using LaTeX!"
      ]
    },
    {
      "cell_type": "markdown",
      "metadata": {
        "id": "JqkUcMra57VP"
      },
      "source": [
        "To enter latex mode use dollar signs\n",
        "$ x=1$\n"
      ]
    },
    {
      "cell_type": "markdown",
      "metadata": {
        "id": "UCjPu3TZ6ERt"
      },
      "source": [
        "Exponents, superscripts, subscripts are easy\n",
        "$x^2$.  For longer exponents $e^{ikx}$.\n",
        "Subscripts use $x_1$ and $x_{total}$."
      ]
    },
    {
      "cell_type": "markdown",
      "metadata": {
        "id": "6S2mjIbH6voE"
      },
      "source": [
        "Symbols use backslash: $\\pi$.  \n",
        "These are case-sensitive $\\delta$ vs $\\Delta$.  $\\nabla$  "
      ]
    },
    {
      "cell_type": "markdown",
      "metadata": {
        "id": "MCatuhiA7Zqb"
      },
      "source": [
        "Functions and fractions\n",
        "$ y = \\sin(x)$ \n",
        "\n",
        "Fractions are a little bit harder.  Use the frac command\n",
        "$\\frac{1}{2}$ and $\\frac{x^2}{\\tanh(x!)}$  "
      ]
    }
  ]
}