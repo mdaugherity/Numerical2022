{
  "nbformat": 4,
  "nbformat_minor": 0,
  "metadata": {
    "colab": {
      "provenance": [],
      "collapsed_sections": [],
      "authorship_tag": "ABX9TyOSfEN8tVCn489+HQtiFbMP",
      "include_colab_link": true
    },
    "kernelspec": {
      "name": "python3",
      "display_name": "Python 3"
    },
    "language_info": {
      "name": "python"
    }
  },
  "cells": [
    {
      "cell_type": "markdown",
      "metadata": {
        "id": "view-in-github",
        "colab_type": "text"
      },
      "source": [
        "<a href=\"https://colab.research.google.com/github/mdaugherity/Numerical2022/blob/main/roots/Week_5_Multi_Roots.ipynb\" target=\"_parent\"><img src=\"https://colab.research.google.com/assets/colab-badge.svg\" alt=\"Open In Colab\"/></a>"
      ]
    },
    {
      "cell_type": "markdown",
      "source": [
        "**Dr. Daugherity, PHYS 351, Fall 2022**\n"
      ],
      "metadata": {
        "id": "1hQkGP0_Y5LP"
      }
    },
    {
      "cell_type": "code",
      "source": [
        "import numpy as np\n",
        "import matplotlib.pyplot as plt\n",
        "from scipy.optimize import root"
      ],
      "metadata": {
        "id": "UIjDjnl9YvDs"
      },
      "execution_count": 1,
      "outputs": []
    },
    {
      "cell_type": "markdown",
      "source": [
        "# Multi-Dimensional Roots (aka NON-Linear Systems)\n",
        "\n",
        "The last problem in root finding is how to find multiple roots simulataneously.  This is the same problem as solving a NON-linear system of equations since we can take any equation and subtract the right side from the left side and set it equal to zero.\n",
        "\n",
        "There are multiple methods, but conceptually they are similar to the 1-dimensional case.  Some methods involve calculating the **Jacobian**, which is an array of partial derivatives.  Some methods are **zero-order** which just search for zeros without derivatives.  \n",
        "\n",
        "Here we demonstrate how to find the solution in python using the **root** command:\n",
        "https://docs.scipy.org/doc/scipy/reference/generated/scipy.optimize.root.html\n",
        "\n",
        "We still find $x$ so that $f(x)=0$, but now we let $\\vec{x}$ and $f(\\vec{x})$ be multi-dimensional vectors.  We must also supply an initial guess to root.  "
      ],
      "metadata": {
        "id": "-pSMMOw1YR80"
      }
    },
    {
      "cell_type": "markdown",
      "source": [
        "# Simple Example\n",
        "Always test your code in cases where you know the right answer.  \n",
        "\n",
        "Our system of equations is $x=3, y=4$.  We set up a function that takes an array $\\vec{x}=[x,y]$ and returns an array that will be zero when $\\vec{x}$ is correct. "
      ],
      "metadata": {
        "id": "3c7FDusNSOKg"
      }
    },
    {
      "cell_type": "code",
      "source": [
        "def f(xvec):\n",
        "  x = xvec[0]  # xvec is an array with our variables\n",
        "  y = xvec[1] \n",
        "  return [x-3, y-4]  # each element represents one equation in our system"
      ],
      "metadata": {
        "id": "HaukBUAsYUYG"
      },
      "execution_count": 13,
      "outputs": []
    },
    {
      "cell_type": "code",
      "source": [
        "root(f, [1,2])  # To see EVERYTHING"
      ],
      "metadata": {
        "colab": {
          "base_uri": "https://localhost:8080/"
        },
        "id": "N7k_foDrZRUc",
        "outputId": "c28c6902-9d60-40cc-b79f-a82d5044f7fc"
      },
      "execution_count": 3,
      "outputs": [
        {
          "output_type": "execute_result",
          "data": {
            "text/plain": [
              "    fjac: array([[-1.00000000e+00, -1.09079412e-12],\n",
              "       [ 1.09079412e-12, -1.00000000e+00]])\n",
              "     fun: array([0., 0.])\n",
              " message: 'The solution converged.'\n",
              "    nfev: 5\n",
              "     qtf: array([-4.36228831e-12, -4.36273240e-12])\n",
              "       r: array([-1.00000000e+00, -2.18131069e-12, -1.00000000e+00])\n",
              "  status: 1\n",
              " success: True\n",
              "       x: array([3., 4.])"
            ]
          },
          "metadata": {},
          "execution_count": 3
        }
      ]
    },
    {
      "cell_type": "code",
      "source": [
        "sol = root(f, [1,2])\n",
        "print('Success: ', sol.success)\n",
        "print(sol.message)\n",
        "print('The solution is ', sol.x)"
      ],
      "metadata": {
        "colab": {
          "base_uri": "https://localhost:8080/"
        },
        "id": "OTco8WFfZDNU",
        "outputId": "d21e0116-b8ff-485b-d22f-50f55f8b254d"
      },
      "execution_count": 14,
      "outputs": [
        {
          "output_type": "stream",
          "name": "stdout",
          "text": [
            "Success:  True\n",
            "The solution converged.\n",
            "The solution is  [3. 4.]\n"
          ]
        }
      ]
    },
    {
      "cell_type": "markdown",
      "source": [
        "# Example 2: Linear Systems\n",
        "Remembering that **WE SHOULD ALWAYS TEST OUR CODE IN CASES WHERE WE KNOW THE RIGHT ANSWER**, we can go back and check with linear systems. \n",
        "\n",
        "Take the system:\n",
        "\n",
        "$-8x+3y=4$\n",
        "\n",
        "$5x-2y=6$\n",
        "\n",
        "Our old solution was:"
      ],
      "metadata": {
        "id": "EXgcDAUQZbsc"
      }
    },
    {
      "cell_type": "code",
      "source": [
        "A = np.array([[-8,3],[5,-2]])\n",
        "b = np.array([4,6])\n",
        "x = np.linalg.solve(A,b)\n",
        "print(x)"
      ],
      "metadata": {
        "colab": {
          "base_uri": "https://localhost:8080/"
        },
        "id": "Dsc8dD_XZkm_",
        "outputId": "9fc3a422-af07-45ee-dc67-9275e98a2e67"
      },
      "execution_count": 4,
      "outputs": [
        {
          "output_type": "stream",
          "name": "stdout",
          "text": [
            "[-26. -68.]\n"
          ]
        }
      ]
    },
    {
      "cell_type": "code",
      "source": [
        "def f(xvec):\n",
        "  x = xvec[0]\n",
        "  y = xvec[1]\n",
        "  return [-8*x+3*y-4, 5*x-2*y-6]"
      ],
      "metadata": {
        "id": "2RcsVSYcaH6t"
      },
      "execution_count": 15,
      "outputs": []
    },
    {
      "cell_type": "code",
      "source": [
        "root(f, [0,0])"
      ],
      "metadata": {
        "colab": {
          "base_uri": "https://localhost:8080/"
        },
        "id": "tL9uK8EPaazP",
        "outputId": "f3656526-a02b-401b-e195-36e448479047"
      },
      "execution_count": 16,
      "outputs": [
        {
          "output_type": "execute_result",
          "data": {
            "text/plain": [
              "    fjac: array([[-0.8479983 ,  0.52999894],\n",
              "       [-0.52999894, -0.8479983 ]])\n",
              "     fun: array([0., 0.])\n",
              " message: 'The solution converged.'\n",
              "    nfev: 7\n",
              "     qtf: array([-6.32665987e-14, -6.02539035e-15])\n",
              "       r: array([ 9.43398113, -3.60399279,  0.10599979])\n",
              "  status: 1\n",
              " success: True\n",
              "       x: array([-26., -68.])"
            ]
          },
          "metadata": {},
          "execution_count": 16
        }
      ]
    },
    {
      "cell_type": "markdown",
      "source": [
        "# Example 3: Gross\n",
        "Here's a gross mess I made up:"
      ],
      "metadata": {
        "id": "LfCLF5ID9aID"
      }
    },
    {
      "cell_type": "code",
      "source": [
        "def f(xvec):\n",
        "  x=xvec[0]    # var 0\n",
        "  y=xvec[1]    # var 1\n",
        "  return [y-np.cos(x**2), y-5*np.exp(-x/8)+np.pi]"
      ],
      "metadata": {
        "id": "T8sladn_9d8r"
      },
      "execution_count": 17,
      "outputs": []
    },
    {
      "cell_type": "code",
      "source": [
        "root(f, [0,0])"
      ],
      "metadata": {
        "colab": {
          "base_uri": "https://localhost:8080/"
        },
        "id": "_CPdn7al9x_C",
        "outputId": "3d0dae5b-86fb-48cd-cb16-9fa0b222c2c4"
      },
      "execution_count": 18,
      "outputs": [
        {
          "output_type": "execute_result",
          "data": {
            "text/plain": [
              "    fjac: array([[-0.9960369 , -0.08894092],\n",
              "       [ 0.08894092, -0.9960369 ]])\n",
              "     fun: array([-1.45272683e-13,  1.33226763e-15])\n",
              " message: 'The solution converged.'\n",
              "    nfev: 14\n",
              "     qtf: array([-7.09260370e-09,  6.68641763e-10])\n",
              "       r: array([-4.99634918, -1.12330855, -0.90325266])\n",
              "  status: 1\n",
              " success: True\n",
              "       x: array([2.72507557, 0.41500177])"
            ]
          },
          "metadata": {},
          "execution_count": 18
        }
      ]
    }
  ]
}