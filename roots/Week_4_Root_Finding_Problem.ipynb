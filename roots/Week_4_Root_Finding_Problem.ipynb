{
  "nbformat": 4,
  "nbformat_minor": 0,
  "metadata": {
    "colab": {
      "provenance": [],
      "authorship_tag": "ABX9TyMe3IjtjpKi1Qh+Wlk7wsTE",
      "include_colab_link": true
    },
    "kernelspec": {
      "name": "python3",
      "display_name": "Python 3"
    }
  },
  "cells": [
    {
      "cell_type": "markdown",
      "metadata": {
        "id": "view-in-github",
        "colab_type": "text"
      },
      "source": [
        "<a href=\"https://colab.research.google.com/github/mdaugherity/Numerical2022/blob/main/roots/Week_4_Root_Finding_Problem.ipynb\" target=\"_parent\"><img src=\"https://colab.research.google.com/assets/colab-badge.svg\" alt=\"Open In Colab\"/></a>"
      ]
    },
    {
      "cell_type": "code",
      "metadata": {
        "id": "ExsHp1V-L13o"
      },
      "source": [
        "import numpy as np\n",
        "import matplotlib.pyplot as plt"
      ],
      "execution_count": 1,
      "outputs": []
    },
    {
      "cell_type": "markdown",
      "metadata": {
        "id": "soTF1DpDL2jL"
      },
      "source": [
        "# Examples of root finding problems"
      ]
    },
    {
      "cell_type": "markdown",
      "metadata": {
        "id": "IL7RStGJMP4Z"
      },
      "source": [
        "# PROBLEM 1 \n",
        "Find E where PsiRight = 0.  Need EVERY root between E= 0 and 50"
      ]
    },
    {
      "cell_type": "code",
      "metadata": {
        "id": "Wp_bVhYLLpVe"
      },
      "source": [
        "def IntegrateTISE(x,V,E,psi0=0,psi1=1e-6):\n",
        "  '''\n",
        "  Uses eq (2.7) to calculate Psi by integrating the TISE\n",
        "  INPUT: x and V arrays, energy E, psi0=psi[0]=psi at x[0], psi1=psi[1]\n",
        "  RETURNS: psi array\n",
        "  '''\n",
        "# INITIALIZE\n",
        "  psi = np.zeros_like(x)\n",
        "  psi[0] = psi0\n",
        "  psi[1] = psi1\n",
        "  dx = x[1] - x[0]\n",
        "  N = len(x)\n",
        "\n",
        "  # MAIN LOOP\n",
        "  for i in range(2,N):\n",
        "    thisPsi = psi[i-1]\n",
        "    lastPsi = psi[i-2]\n",
        "    psi[i] = 2*thisPsi*(1 - dx**2 * (E-V[i])) - lastPsi # eq 2.7\n",
        "              \n",
        "  return psi"
      ],
      "execution_count": 2,
      "outputs": []
    },
    {
      "cell_type": "code",
      "metadata": {
        "id": "wDlT4TH5MF9j"
      },
      "source": [
        "xMax = 1.5\n",
        "dx = 0.001\n",
        "x = np.arange(-xMax,xMax+dx,dx)\n",
        "V = 50*np.heaviside(np.abs(x)-0.5,1) # Heaviside=0 for x<0, 1 for x>0\n",
        "\n",
        "def PsiRight(E):  # return only the last psi for root finding\n",
        "  psi = IntegrateTISE(x,V,E)\n",
        "  return psi[-1]"
      ],
      "execution_count": 4,
      "outputs": []
    },
    {
      "cell_type": "code",
      "metadata": {
        "id": "MJHBll5NMGrQ"
      },
      "source": [],
      "execution_count": null,
      "outputs": []
    },
    {
      "cell_type": "code",
      "metadata": {
        "colab": {
          "base_uri": "https://localhost:8080/"
        },
        "id": "pcQCD09gMd4z",
        "outputId": "16791a15-6b53-4a7d-f755-c189bc86760a"
      },
      "source": [
        "PsiRight(15)"
      ],
      "execution_count": 8,
      "outputs": [
        {
          "output_type": "execute_result",
          "data": {
            "text/plain": [
              "417.3557961473078"
            ]
          },
          "metadata": {},
          "execution_count": 8
        }
      ]
    }
  ]
}