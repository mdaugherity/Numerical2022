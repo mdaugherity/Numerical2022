{
  "nbformat": 4,
  "nbformat_minor": 0,
  "metadata": {
    "colab": {
      "provenance": [],
      "collapsed_sections": [],
      "authorship_tag": "ABX9TyMrWHBZqAd5eO/jOUdkr1vS",
      "include_colab_link": true
    },
    "kernelspec": {
      "name": "python3",
      "display_name": "Python 3"
    },
    "language_info": {
      "name": "python"
    }
  },
  "cells": [
    {
      "cell_type": "markdown",
      "metadata": {
        "id": "view-in-github",
        "colab_type": "text"
      },
      "source": [
        "<a href=\"https://colab.research.google.com/github/mdaugherity/Numerical2022/blob/main/roots/Week_4_Root_Finding.ipynb\" target=\"_parent\"><img src=\"https://colab.research.google.com/assets/colab-badge.svg\" alt=\"Open In Colab\"/></a>"
      ]
    },
    {
      "cell_type": "markdown",
      "source": [
        "# ROOT FINDING Examples\n",
        "## PHYS 351, Fall 2022\n",
        "##  Dr. Daugherity, Abilene Christian University\n",
        "Solving NON-linear equations.  For any equation you can subtract the right side from the left side and finding the x that makes it zero.   \n",
        "\n",
        "*Example*:  Instead of $x^2=4$ find $x$ that makes $x^2-4=0$\n",
        "\n",
        "This notebook demonstrates 3 common algorithms for root finding, then shows the built-in method using scipy.root_scalar\n",
        "\n"
      ],
      "metadata": {
        "id": "J928abwEzCQu"
      }
    },
    {
      "cell_type": "code",
      "metadata": {
        "id": "VEMSF6YMm8PI"
      },
      "source": [
        "import numpy as np\n",
        "import matplotlib.pyplot as plt"
      ],
      "execution_count": null,
      "outputs": []
    },
    {
      "cell_type": "markdown",
      "metadata": {
        "id": "vibliz72KXjZ"
      },
      "source": [
        "Define a function to find roots for:\n",
        "\n",
        " $f(x)=0$\n",
        "   "
      ]
    },
    {
      "cell_type": "code",
      "metadata": {
        "id": "WaHsEHPBnCll"
      },
      "source": [
        "def f(x):\n",
        "  return 5-x  # a difficult equation, the solution is x=5 "
      ],
      "execution_count": null,
      "outputs": []
    },
    {
      "cell_type": "markdown",
      "metadata": {
        "id": "9RcLFTgfLA77"
      },
      "source": [
        "## Bisection version 1 - simple loop"
      ]
    },
    {
      "cell_type": "code",
      "metadata": {
        "colab": {
          "base_uri": "https://localhost:8080/"
        },
        "id": "ZMKT17AAnTT8",
        "outputId": "96ea66bf-7ed9-4870-98a1-3d81c144409b"
      },
      "source": [
        "xl = 1\n",
        "xr = 10\n",
        "fl = f(xl)\n",
        "fr = f(xr)\n",
        "\n",
        "STEPS = 20\n",
        "print(f\"{'i':3}{'left':20}{'mid':20}{'right':20}\")\n",
        "for i in range(STEPS):\n",
        "  xm = (xl+xr)/2\n",
        "  fm = f(xm)\n",
        "  print(f\"{i:<3}{xl:<20}{xm:<20}{xr:<20}\")\n",
        "  if fl*fm<0:  # left and mid have diff signs\n",
        "    xr = xm  # root between xl and xm\n",
        "    fr = fm\n",
        "  else:\n",
        "    xl = xm  # root between xm and xr\n",
        "    fl = fm  \n",
        "  \n",
        "print('root is between:',xl,' and ', xr)"
      ],
      "execution_count": 62,
      "outputs": [
        {
          "output_type": "stream",
          "name": "stdout",
          "text": [
            "i  left                mid                 right               \n",
            "0  1                   5.5                 10                  \n",
            "1  1                   3.25                5.5                 \n",
            "2  1                   2.125               3.25                \n",
            "3  1                   1.5625              2.125               \n",
            "4  1.5625              1.84375             2.125               \n",
            "5  1.84375             1.984375            2.125               \n",
            "6  1.984375            2.0546875           2.125               \n",
            "7  1.984375            2.01953125          2.0546875           \n",
            "8  1.984375            2.001953125         2.01953125          \n",
            "9  1.984375            1.9931640625        2.001953125         \n",
            "10 1.9931640625        1.99755859375       2.001953125         \n",
            "11 1.99755859375       1.999755859375      2.001953125         \n",
            "12 1.999755859375      2.0008544921875     2.001953125         \n",
            "13 1.999755859375      2.00030517578125    2.0008544921875     \n",
            "14 1.999755859375      2.000030517578125   2.00030517578125    \n",
            "15 1.999755859375      1.9998931884765625  2.000030517578125   \n",
            "16 1.9998931884765625  1.9999618530273438  2.000030517578125   \n",
            "17 1.9999618530273438  1.9999961853027344  2.000030517578125   \n",
            "18 1.9999961853027344  2.0000133514404297  2.000030517578125   \n",
            "19 1.9999961853027344  2.000004768371582   2.0000133514404297  \n",
            "root is between: 1.9999961853027344  and  2.000004768371582\n"
          ]
        }
      ]
    },
    {
      "cell_type": "markdown",
      "metadata": {
        "id": "QXkuR1nALE1e"
      },
      "source": [
        "## VERSION 2 - Define max error tolerance\n",
        "\n",
        "Notice that machine precision means we can't get errors smaller than $10^{-15}$ reliably.   "
      ]
    },
    {
      "cell_type": "code",
      "metadata": {
        "colab": {
          "base_uri": "https://localhost:8080/"
        },
        "id": "1dDTOYDMn_ZV",
        "outputId": "6f931c36-9f55-4c53-f981-179db2e81541"
      },
      "source": [
        "xl = 1\n",
        "xr = 10\n",
        "fl = f(xl)\n",
        "fr = f(xr)\n",
        "err = xr-xl\n",
        "tol = 1e-10  # max error goal\n",
        "print(f\"{'err':^20}{'left':^20}{'mid':^20}{'right':^20}\")\n",
        "while err>tol:\n",
        "  xm = (xl+xr)/2\n",
        "  fm = f(xm)\n",
        "  \n",
        "  if fl*fm<0:  # left and mid have diff signs\n",
        "    xr = xm  # root between xl and xm\n",
        "    fr = fm\n",
        "  else:\n",
        "    xl = xm  # root between xm and xr\n",
        "    fl = fm  \n",
        "  err = xr-xl\n",
        "  print(f\"{err:20}{xl:20}{xm:20}{xr:20}\")\n",
        "  \n",
        "print('root is between:',xl,' and ', xr)\n"
      ],
      "execution_count": 66,
      "outputs": [
        {
          "output_type": "stream",
          "name": "stdout",
          "text": [
            "        err                 left                mid                right        \n",
            "                 4.5                   1                 5.5                 5.5\n",
            "                2.25                   1                3.25                3.25\n",
            "               1.125                   1               2.125               2.125\n",
            "              0.5625              1.5625              1.5625               2.125\n",
            "             0.28125             1.84375             1.84375               2.125\n",
            "            0.140625            1.984375            1.984375               2.125\n",
            "           0.0703125            1.984375           2.0546875           2.0546875\n",
            "          0.03515625            1.984375          2.01953125          2.01953125\n",
            "         0.017578125            1.984375         2.001953125         2.001953125\n",
            "        0.0087890625        1.9931640625        1.9931640625         2.001953125\n",
            "       0.00439453125       1.99755859375       1.99755859375         2.001953125\n",
            "      0.002197265625      1.999755859375      1.999755859375         2.001953125\n",
            "     0.0010986328125      1.999755859375     2.0008544921875     2.0008544921875\n",
            "    0.00054931640625      1.999755859375    2.00030517578125    2.00030517578125\n",
            "   0.000274658203125      1.999755859375   2.000030517578125   2.000030517578125\n",
            "  0.0001373291015625  1.9998931884765625  1.9998931884765625   2.000030517578125\n",
            "  6.866455078125e-05  1.9999618530273438  1.9999618530273438   2.000030517578125\n",
            " 3.4332275390625e-05  1.9999961853027344  1.9999961853027344   2.000030517578125\n",
            "1.71661376953125e-05  1.9999961853027344  2.0000133514404297  2.0000133514404297\n",
            "8.58306884765625e-06  1.9999961853027344   2.000004768371582   2.000004768371582\n",
            "4.291534423828125e-06  1.9999961853027344   2.000000476837158   2.000000476837158\n",
            "2.1457672119140625e-06  1.9999983310699463  1.9999983310699463   2.000000476837158\n",
            "1.0728836059570312e-06  1.9999994039535522  1.9999994039535522   2.000000476837158\n",
            "5.364418029785156e-07  1.9999999403953552  1.9999999403953552   2.000000476837158\n",
            "2.682209014892578e-07  1.9999999403953552  2.0000002086162567  2.0000002086162567\n",
            "1.341104507446289e-07  1.9999999403953552   2.000000074505806   2.000000074505806\n",
            "6.705522537231445e-08  1.9999999403953552  2.0000000074505806  2.0000000074505806\n",
            "3.3527612686157227e-08   1.999999973922968   1.999999973922968  2.0000000074505806\n",
            "1.6763806343078613e-08  1.9999999906867743  1.9999999906867743  2.0000000074505806\n",
            "8.381903171539307e-09  1.9999999990686774  1.9999999990686774  2.0000000074505806\n",
            "4.190951585769653e-09  1.9999999990686774   2.000000003259629   2.000000003259629\n",
            "2.0954757928848267e-09  1.9999999990686774   2.000000001164153   2.000000001164153\n",
            "1.0477378964424133e-09  1.9999999990686774  2.0000000001164153  2.0000000001164153\n",
            "5.238689482212067e-10  1.9999999995925464  1.9999999995925464  2.0000000001164153\n",
            "2.6193447411060333e-10  1.9999999998544808  1.9999999998544808  2.0000000001164153\n",
            "1.3096723705530167e-10   1.999999999985448   1.999999999985448  2.0000000001164153\n",
            "6.548361852765083e-11   1.999999999985448  2.0000000000509317  2.0000000000509317\n",
            "root is between: 1.999999999985448  and  2.0000000000509317\n"
          ]
        }
      ]
    },
    {
      "cell_type": "markdown",
      "metadata": {
        "id": "_HfP1iHKBTdl"
      },
      "source": [
        "# Newton-Rhapson\n",
        "Example of root finding using the Newton-Raphson.  This algorithm converges faster than bisection, but it requires knowing the derivative and is **not** guaranteed to converge"
      ]
    },
    {
      "cell_type": "code",
      "metadata": {
        "id": "_jzoT0X0BOgh"
      },
      "source": [
        "def f(x):\n",
        "  return x**2 + 4*x + 4"
      ],
      "execution_count": 68,
      "outputs": []
    },
    {
      "cell_type": "code",
      "metadata": {
        "id": "wfgm8bS6CV98"
      },
      "source": [
        "def fprime(x):\n",
        "  return 2*x+4"
      ],
      "execution_count": 69,
      "outputs": []
    },
    {
      "cell_type": "code",
      "metadata": {
        "colab": {
          "base_uri": "https://localhost:8080/",
          "height": 265
        },
        "id": "O0NK9bziBvdT",
        "outputId": "0cbe651d-edb0-4714-9220-592fcb1914a7"
      },
      "source": [
        "x = np.linspace(-4,0)\n",
        "plt.plot(x, f(x))\n",
        "plt.grid()"
      ],
      "execution_count": null,
      "outputs": [
        {
          "output_type": "display_data",
          "data": {
            "text/plain": [
              "<Figure size 432x288 with 1 Axes>"
            ],
            "image/png": "[encoded data removed]"
          },
          "metadata": {
            "needs_background": "light"
          }
        }
      ]
    },
    {
      "cell_type": "code",
      "metadata": {
        "colab": {
          "base_uri": "https://localhost:8080/"
        },
        "id": "AkM7TD_pDFX8",
        "outputId": "6690bbf7-9c4a-404c-bd4a-d88f9a7f407f"
      },
      "source": [
        "# ONE STEP\n",
        "xold = -3\n",
        "xnew = xold - f(xold)/fprime(xold)\n",
        "\n",
        "print('Initial Guess = ',xold)\n",
        "print('next guess is xnew =', xnew)"
      ],
      "execution_count": 70,
      "outputs": [
        {
          "output_type": "stream",
          "name": "stdout",
          "text": [
            "Initial Guess =  -3\n",
            "next guess is xnew = -2.5\n"
          ]
        }
      ]
    },
    {
      "cell_type": "code",
      "metadata": {
        "colab": {
          "base_uri": "https://localhost:8080/"
        },
        "id": "uCvhyBmgDKRr",
        "outputId": "1e0f60f7-300e-4650-9672-cc0c6a01c2d8"
      },
      "source": [
        "# MANY STEPS\n",
        "STEPS = 10\n",
        "xold = -3\n",
        "print('Initial Guess = ',xold)\n",
        "\n",
        "for i in range(STEPS):\n",
        "  xnew = xold - f(xold)/fprime(xold)\n",
        "  print('next guess is xnew =', xnew)\n",
        "  xold = xnew"
      ],
      "execution_count": 71,
      "outputs": [
        {
          "output_type": "stream",
          "name": "stdout",
          "text": [
            "Initial Guess =  -3\n",
            "next guess is xnew = -2.5\n",
            "next guess is xnew = -2.25\n",
            "next guess is xnew = -2.125\n",
            "next guess is xnew = -2.0625\n",
            "next guess is xnew = -2.03125\n",
            "next guess is xnew = -2.015625\n",
            "next guess is xnew = -2.0078125\n",
            "next guess is xnew = -2.00390625\n",
            "next guess is xnew = -2.001953125\n",
            "next guess is xnew = -2.0009765625\n"
          ]
        }
      ]
    },
    {
      "cell_type": "code",
      "source": [],
      "metadata": {
        "id": "3NM-LnceF_P-"
      },
      "execution_count": null,
      "outputs": []
    },
    {
      "cell_type": "markdown",
      "metadata": {
        "id": "RSuPvJBlGoK-"
      },
      "source": [
        "# SECANT METHOD"
      ]
    },
    {
      "cell_type": "code",
      "metadata": {
        "colab": {
          "base_uri": "https://localhost:8080/"
        },
        "id": "VOCDDh0jGqLP",
        "outputId": "81840f86-6314-4628-8c7b-57c6769bb866"
      },
      "source": [
        "x0 = -3\n",
        "x1 = x0 + 1e-3\n",
        "\n",
        "STEPS = 10\n",
        "print('Initial Guesses = ',x0,x1)\n",
        "\n",
        "for i in range(STEPS):\n",
        "  dem = f(x1)-f(x0)\n",
        "  x2 = x1 - f(x1)*(x1-x0)/dem\n",
        "  print('next guess is x2 =', x2)\n",
        "  x0 = x1\n",
        "  x1 = x2\n",
        "  \n"
      ],
      "execution_count": null,
      "outputs": [
        {
          "output_type": "stream",
          "name": "stdout",
          "text": [
            "Initial Guesses =  -3 -2.999\n",
            "next guess is x2 = -2.4997498749374336\n",
            "next guess is x2 = -2.3331110370123223\n",
            "next guess is x2 = -2.1998799519807806\n",
            "next guess is x2 = -2.1249218456921293\n",
            "next guess is x2 = -2.076875721431314\n",
            "next guess is x2 = -2.0475895579268237\n",
            "next guess is x2 = -2.029393591667401\n",
            "next guess is x2 = -2.018170574219251\n",
            "next guess is x2 = -2.0112290088348472\n",
            "next guess is x2 = -2.006940150752016\n"
          ]
        }
      ]
    },
    {
      "cell_type": "markdown",
      "source": [],
      "metadata": {
        "id": "pNzUxhwuzxTl"
      }
    },
    {
      "cell_type": "markdown",
      "metadata": {
        "id": "GH6wTG9Wzxuk"
      },
      "source": [
        "# ROOT_SCALAR\n",
        "How to use root_scalar\n",
        "https://docs.scipy.org/doc/scipy/reference/generated/scipy.optimize.root_scalar.html \n"
      ]
    },
    {
      "cell_type": "code",
      "metadata": {
        "id": "0F3_Tj3hzxuq"
      },
      "source": [
        "from scipy.optimize import root_scalar"
      ],
      "execution_count": null,
      "outputs": []
    },
    {
      "cell_type": "code",
      "metadata": {
        "id": "g78Kvcy3zxuu"
      },
      "source": [
        "def f(x):\n",
        "  return x**2 - 4"
      ],
      "execution_count": 73,
      "outputs": []
    },
    {
      "cell_type": "code",
      "metadata": {
        "id": "46umr20vU_Vo"
      },
      "source": [
        "def fprime(x):\n",
        "  return 2*x"
      ],
      "execution_count": 74,
      "outputs": []
    },
    {
      "cell_type": "code",
      "metadata": {
        "colab": {
          "base_uri": "https://localhost:8080/",
          "height": 265
        },
        "id": "IdZN5BtGUwVz",
        "outputId": "d5489a58-fcdf-47aa-a141-4d2068f963b1"
      },
      "source": [
        "x = np.linspace(-4,4)\n",
        "plt.axhline(0,color='k')\n",
        "plt.plot(x,f(x))\n",
        "plt.grid()"
      ],
      "execution_count": 75,
      "outputs": [
        {
          "output_type": "display_data",
          "data": {
            "text/plain": [
              "<Figure size 432x288 with 1 Axes>"
            ],
            "image/png": "[encoded data removed]"
          },
          "metadata": {
            "needs_background": "light"
          }
        }
      ]
    },
    {
      "cell_type": "code",
      "metadata": {
        "colab": {
          "base_uri": "https://localhost:8080/"
        },
        "id": "ZdKAGJGWVWcQ",
        "outputId": "b43f7ffb-de50-4449-d287-ccf56732b060"
      },
      "source": [
        "root_scalar(f, bracket=[-4, 0] )    # use brackets"
      ],
      "execution_count": 76,
      "outputs": [
        {
          "output_type": "execute_result",
          "data": {
            "text/plain": [
              "      converged: True\n",
              "           flag: 'converged'\n",
              " function_calls: 10\n",
              "     iterations: 9\n",
              "           root: -2.0"
            ]
          },
          "metadata": {},
          "execution_count": 76
        }
      ]
    },
    {
      "cell_type": "code",
      "metadata": {
        "colab": {
          "base_uri": "https://localhost:8080/"
        },
        "id": "mei41bt9WL34",
        "outputId": "f08928d7-b8b5-4139-8e25-9a15d9277945"
      },
      "source": [
        "sol = root_scalar(f, bracket=[0, 10] )    # use brackets\n",
        "x = sol.root  # the root\n",
        "print(x)"
      ],
      "execution_count": 77,
      "outputs": [
        {
          "output_type": "stream",
          "name": "stdout",
          "text": [
            "2.0\n"
          ]
        }
      ]
    },
    {
      "cell_type": "code",
      "metadata": {
        "colab": {
          "base_uri": "https://localhost:8080/"
        },
        "id": "NlDaHQ07W3qw",
        "outputId": "6d0ff609-4a67-4191-9a1e-a3cd06a3d06b"
      },
      "source": [
        "root_scalar(f, fprime=fprime, x0=-4 )    # use derivatives"
      ],
      "execution_count": 78,
      "outputs": [
        {
          "output_type": "execute_result",
          "data": {
            "text/plain": [
              "      converged: True\n",
              "           flag: 'converged'\n",
              " function_calls: 12\n",
              "     iterations: 6\n",
              "           root: -2.0"
            ]
          },
          "metadata": {},
          "execution_count": 78
        }
      ]
    },
    {
      "cell_type": "code",
      "metadata": {
        "colab": {
          "base_uri": "https://localhost:8080/"
        },
        "id": "XKZIjtV4XLgv",
        "outputId": "48eee99e-15ce-4f92-a894-2aacc7fd4138"
      },
      "source": [
        "root_scalar(f, fprime=fprime, x0=0 )    # use derivatives, watch for zeros!!!!!"
      ],
      "execution_count": 79,
      "outputs": [
        {
          "output_type": "stream",
          "name": "stderr",
          "text": [
            "/usr/local/lib/python3.7/dist-packages/scipy/optimize/zeros.py:295: RuntimeWarning: Derivative was zero.\n",
            "  warnings.warn(msg, RuntimeWarning)\n"
          ]
        },
        {
          "output_type": "execute_result",
          "data": {
            "text/plain": [
              "      converged: False\n",
              "           flag: 'convergence error'\n",
              " function_calls: 2\n",
              "     iterations: 1\n",
              "           root: 0.0"
            ]
          },
          "metadata": {},
          "execution_count": 79
        }
      ]
    },
    {
      "cell_type": "code",
      "metadata": {
        "colab": {
          "base_uri": "https://localhost:8080/"
        },
        "id": "CRsWh4ldXhmu",
        "outputId": "6a28f9f2-60c5-428e-9044-5ea8315786c3"
      },
      "source": [
        "sol = root_scalar(f, fprime=fprime, x0=0 )    # use derivatives\n",
        "x = sol.root\n",
        "print('root = ',x)\n",
        "if sol.converged==False:\n",
        "  print('*****************WARNING!!!!!!***********')\n",
        "print(sol)"
      ],
      "execution_count": 83,
      "outputs": [
        {
          "output_type": "stream",
          "name": "stdout",
          "text": [
            "root =  0.0\n",
            "*****************WARNING!!!!!!***********\n",
            "      converged: False\n",
            "           flag: 'convergence error'\n",
            " function_calls: 2\n",
            "     iterations: 1\n",
            "           root: 0.0\n"
          ]
        },
        {
          "output_type": "stream",
          "name": "stderr",
          "text": [
            "/usr/local/lib/python3.7/dist-packages/scipy/optimize/zeros.py:295: RuntimeWarning: Derivative was zero.\n",
            "  warnings.warn(msg, RuntimeWarning)\n"
          ]
        }
      ]
    },
    {
      "cell_type": "code",
      "metadata": {
        "colab": {
          "base_uri": "https://localhost:8080/"
        },
        "id": "U187FbVYX1w_",
        "outputId": "54eb03bd-b423-43e0-9265-2c9343333ab0"
      },
      "source": [
        "root_scalar(f,x0=-4, x1=-2.5 )    # use two guesses"
      ],
      "execution_count": 84,
      "outputs": [
        {
          "output_type": "execute_result",
          "data": {
            "text/plain": [
              "      converged: True\n",
              "           flag: 'converged'\n",
              " function_calls: 7\n",
              "     iterations: 6\n",
              "           root: -2.000000000000058"
            ]
          },
          "metadata": {},
          "execution_count": 84
        }
      ]
    },
    {
      "cell_type": "code",
      "metadata": {
        "colab": {
          "base_uri": "https://localhost:8080/"
        },
        "id": "UMSGPlC6YdLv",
        "outputId": "703e3f7f-b252-4585-9dc8-1b572d8159c7"
      },
      "source": [
        "x0 = -4 # initial guess\n",
        "root_scalar(f,x0=x0, x1=x0+1e-4)    # use two guesses"
      ],
      "execution_count": 86,
      "outputs": [
        {
          "output_type": "execute_result",
          "data": {
            "text/plain": [
              "      converged: True\n",
              "           flag: 'converged'\n",
              " function_calls: 8\n",
              "     iterations: 7\n",
              "           root: -2.0000000000000004"
            ]
          },
          "metadata": {},
          "execution_count": 86
        }
      ]
    },
    {
      "cell_type": "code",
      "source": [
        "x0 = -4 # initial guess\n",
        "root_scalar(f,x0=x0, x1=x0+1e-4,xtol=1e-4)    # use two guesses"
      ],
      "metadata": {
        "colab": {
          "base_uri": "https://localhost:8080/"
        },
        "id": "5L4FGxxdCqFd",
        "outputId": "c06f0ba9-86c4-4870-ef51-bc82c2e06864"
      },
      "execution_count": null,
      "outputs": [
        {
          "output_type": "execute_result",
          "data": {
            "text/plain": [
              "      converged: True\n",
              "           flag: 'converged'\n",
              " function_calls: 7\n",
              "     iterations: 6\n",
              "           root: -2.000000000382294"
            ]
          },
          "metadata": {},
          "execution_count": 61
        }
      ]
    }
  ]
}