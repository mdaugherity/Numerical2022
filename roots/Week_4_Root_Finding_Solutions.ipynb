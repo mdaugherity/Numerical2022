{
  "nbformat": 4,
  "nbformat_minor": 0,
  "metadata": {
    "colab": {
      "provenance": [],
      "collapsed_sections": [],
      "authorship_tag": "ABX9TyO43oFDB/wXPpg7QYY4Y3pv",
      "include_colab_link": true
    },
    "kernelspec": {
      "name": "python3",
      "display_name": "Python 3"
    }
  },
  "cells": [
    {
      "cell_type": "markdown",
      "metadata": {
        "id": "view-in-github",
        "colab_type": "text"
      },
      "source": [
        "<a href=\"https://colab.research.google.com/github/mdaugherity/Numerical2022/blob/main/roots/Week_4_Root_Finding_Solutions.ipynb\" target=\"_parent\"><img src=\"https://colab.research.google.com/assets/colab-badge.svg\" alt=\"Open In Colab\"/></a>"
      ]
    },
    {
      "cell_type": "code",
      "metadata": {
        "id": "ExsHp1V-L13o"
      },
      "source": [
        "import numpy as np\n",
        "import matplotlib.pyplot as plt"
      ],
      "execution_count": null,
      "outputs": []
    },
    {
      "cell_type": "markdown",
      "metadata": {
        "id": "soTF1DpDL2jL"
      },
      "source": [
        "# Examples of root finding problems"
      ]
    },
    {
      "cell_type": "markdown",
      "metadata": {
        "id": "IL7RStGJMP4Z"
      },
      "source": [
        "# PROBLEM 1 \n",
        "Find E where PsiRight = 0.  Need EVERY root between E= 0 and 50"
      ]
    },
    {
      "cell_type": "code",
      "metadata": {
        "id": "Wp_bVhYLLpVe"
      },
      "source": [
        "def IntegrateTISE(x,V,E,psi0=0,psi1=1e-6):\n",
        "  '''\n",
        "  Uses eq (2.7) to calculate Psi by integrating the TISE\n",
        "  INPUT: x and V arrays, energy E, psi0=psi[0]=psi at x[0], psi1=psi[1]\n",
        "  RETURNS: psi array\n",
        "  '''\n",
        "# INITIALIZE\n",
        "  psi = np.zeros_like(x)\n",
        "  psi[0] = psi0\n",
        "  psi[1] = psi1\n",
        "  dx = x[1] - x[0]\n",
        "  N = len(x)\n",
        "\n",
        "  # MAIN LOOP\n",
        "  for i in range(2,N):\n",
        "    thisPsi = psi[i-1]\n",
        "    lastPsi = psi[i-2]\n",
        "    psi[i] = 2*thisPsi*(1 - dx**2 * (E-V[i])) - lastPsi # eq 2.7\n",
        "              \n",
        "  return psi"
      ],
      "execution_count": null,
      "outputs": []
    },
    {
      "cell_type": "code",
      "metadata": {
        "id": "wDlT4TH5MF9j"
      },
      "source": [
        "xMax = 1.5\n",
        "dx = 0.001\n",
        "x = np.arange(-xMax,xMax+dx,dx)\n",
        "V = 50*np.heaviside(np.abs(x)-0.5,1) # Heaviside=0 for x<0, 1 for x>0\n",
        "\n",
        "def PsiRight(E):  # return only the last psi for root finding\n",
        "  psi = IntegrateTISE(x,V,E)\n",
        "  return psi[-1]"
      ],
      "execution_count": null,
      "outputs": []
    },
    {
      "cell_type": "code",
      "metadata": {
        "colab": {
          "base_uri": "https://localhost:8080/"
        },
        "id": "pcQCD09gMd4z",
        "outputId": "42a8183f-0694-40c1-a2e7-d12ecf62f54f"
      },
      "source": [
        "PsiRight(10)"
      ],
      "execution_count": null,
      "outputs": [
        {
          "output_type": "execute_result",
          "data": {
            "text/plain": [
              "-3172.798295974798"
            ]
          },
          "metadata": {},
          "execution_count": 43
        }
      ]
    },
    {
      "cell_type": "code",
      "metadata": {
        "colab": {
          "base_uri": "https://localhost:8080/"
        },
        "id": "X8qAitc-Mttg",
        "outputId": "5f9f9ff6-d8e7-4b7e-d15d-ff2d94c102f7"
      },
      "source": [
        "PsiRight(20)"
      ],
      "execution_count": null,
      "outputs": [
        {
          "output_type": "execute_result",
          "data": {
            "text/plain": [
              "347.71096245619435"
            ]
          },
          "metadata": {},
          "execution_count": 44
        }
      ]
    },
    {
      "cell_type": "markdown",
      "metadata": {
        "id": "8jtp4qMh-Bz9"
      },
      "source": [
        "# SOLUTIONS\n",
        "\n",
        "My best advice:\n",
        "## PLOT the FUNCTION"
      ]
    },
    {
      "cell_type": "code",
      "metadata": {
        "id": "PDGzyhKhtgN6",
        "colab": {
          "base_uri": "https://localhost:8080/",
          "height": 269
        },
        "outputId": "37215412-e57e-4cdf-d600-6379816eac16"
      },
      "source": [
        "E = np.linspace(0,50,200)\n",
        "y = np.zeros_like(E)\n",
        "for i in range(len(E)):\n",
        "  e = E[i]\n",
        "  y[i] = PsiRight(e)\n",
        "\n",
        "plt.axhline(0, color='k')\n",
        "plt.plot(E,y)\n",
        "plt.ylim(-.1,.1)\n",
        "plt.grid()"
      ],
      "execution_count": null,
      "outputs": [
        {
          "output_type": "display_data",
          "data": {
            "text/plain": [
              "<Figure size 432x288 with 1 Axes>"
            ],
            "image/png": "[encoded data removed]"
          },
          "metadata": {
            "needs_background": "light"
          }
        }
      ]
    },
    {
      "cell_type": "code",
      "metadata": {
        "id": "bxY92ldsuUBo"
      },
      "source": [
        "from scipy.optimize import root_scalar"
      ],
      "execution_count": null,
      "outputs": []
    },
    {
      "cell_type": "code",
      "metadata": {
        "id": "zoeTJDTDuYyH",
        "colab": {
          "base_uri": "https://localhost:8080/"
        },
        "outputId": "aa208264-39af-4560-d894-bbd8ded7f115"
      },
      "source": [
        "root_scalar(PsiRight, bracket=[1,5] )"
      ],
      "execution_count": null,
      "outputs": [
        {
          "output_type": "execute_result",
          "data": {
            "text/plain": [
              "      converged: True\n",
              "           flag: 'converged'\n",
              " function_calls: 15\n",
              "     iterations: 14\n",
              "           root: 3.4135557441253193"
            ]
          },
          "metadata": {},
          "execution_count": 47
        }
      ]
    },
    {
      "cell_type": "code",
      "metadata": {
        "id": "y5uBRYLSup0G",
        "colab": {
          "base_uri": "https://localhost:8080/"
        },
        "outputId": "d44cb10e-de45-4831-d556-cad5266a4b63"
      },
      "source": [
        "root_scalar(PsiRight,bracket=[10,15] )"
      ],
      "execution_count": null,
      "outputs": [
        {
          "output_type": "execute_result",
          "data": {
            "text/plain": [
              "      converged: True\n",
              "           flag: 'converged'\n",
              " function_calls: 17\n",
              "     iterations: 16\n",
              "           root: 13.475651827468985"
            ]
          },
          "metadata": {},
          "execution_count": 48
        }
      ]
    },
    {
      "cell_type": "code",
      "metadata": {
        "id": "dZw8qSz0u2pO",
        "colab": {
          "base_uri": "https://localhost:8080/"
        },
        "outputId": "63bcdf01-a49a-4839-b5d4-2a38cc77edd7"
      },
      "source": [
        "root_scalar(PsiRight, bracket=[25,30] )"
      ],
      "execution_count": null,
      "outputs": [
        {
          "output_type": "execute_result",
          "data": {
            "text/plain": [
              "      converged: True\n",
              "           flag: 'converged'\n",
              " function_calls: 14\n",
              "     iterations: 13\n",
              "           root: 29.452156557535297"
            ]
          },
          "metadata": {},
          "execution_count": 50
        }
      ]
    },
    {
      "cell_type": "code",
      "metadata": {
        "id": "TpUo_yKCvAZ_",
        "colab": {
          "base_uri": "https://localhost:8080/"
        },
        "outputId": "1c79eb8b-0f1c-4e8e-d3b2-aeb0c6414157"
      },
      "source": [
        "root_scalar(PsiRight, bracket=[40,50] )"
      ],
      "execution_count": null,
      "outputs": [
        {
          "output_type": "execute_result",
          "data": {
            "text/plain": [
              "      converged: True\n",
              "           flag: 'converged'\n",
              " function_calls: 29\n",
              "     iterations: 28\n",
              "           root: 48.227034323456806"
            ]
          },
          "metadata": {},
          "execution_count": 51
        }
      ]
    },
    {
      "cell_type": "code",
      "metadata": {
        "id": "mRLpq1HpvC29",
        "colab": {
          "base_uri": "https://localhost:8080/"
        },
        "outputId": "6306bd1f-43b0-4ca6-a430-6c0ad0b68a14"
      },
      "source": [
        "root_scalar(PsiRight, bracket=[5,50] )"
      ],
      "execution_count": null,
      "outputs": [
        {
          "output_type": "execute_result",
          "data": {
            "text/plain": [
              "      converged: True\n",
              "           flag: 'converged'\n",
              " function_calls: 20\n",
              "     iterations: 19\n",
              "           root: 13.475651827469626"
            ]
          },
          "metadata": {},
          "execution_count": 59
        }
      ]
    },
    {
      "cell_type": "markdown",
      "source": [
        "# Automatic Root Scanner"
      ],
      "metadata": {
        "id": "Q-If54TJClbJ"
      }
    },
    {
      "cell_type": "code",
      "source": [
        "EMIN = 0\n",
        "EMAX = 50\n",
        "ELIST = np.linspace(EMIN,EMAX, 200)  # MUST use enough steps!\n",
        "\n",
        "def f(x):\n",
        "  return PsiRight(x)\n",
        "\n",
        "fold = f(EMIN)\n",
        "Eold = EMIN\n",
        "\n",
        "roots = []  # empty list\n",
        "\n",
        "for i in range(1, len(ELIST)):\n",
        "  Enew = ELIST[i]\n",
        "  fnew = f(Enew)\n",
        "  #print(fnew)\n",
        "  if np.sign(fold)!=np.sign(fnew):   # found a root\n",
        "    sol = root_scalar(f, bracket=[Eold, Enew])\n",
        "    if sol.converged:\n",
        "      roots.append(sol.root)\n",
        "    print(f\"Found root: {sol.root}\")\n",
        "    #print (f\"{Eold:10.4f}{Enew:10.4f}{sol.root:10.4f}\\t{sol.converged}\")\n",
        "    fold = fnew\n",
        "    Eold = Enew\n",
        "\n",
        "print(\"Roots are:\")\n",
        "print(roots)"
      ],
      "metadata": {
        "colab": {
          "base_uri": "https://localhost:8080/"
        },
        "id": "9soY7zhpCo2s",
        "outputId": "c988c42c-3bf8-47b4-ec44-6dc80a3a2edd"
      },
      "execution_count": null,
      "outputs": [
        {
          "output_type": "stream",
          "name": "stdout",
          "text": [
            "Found root: 3.4135557441256195\n",
            "Found root: 13.475651827469942\n",
            "Found root: 29.452156557535613\n",
            "Found root: 48.22703432345641\n",
            "Roots are:\n",
            "[3.4135557441256195, 13.475651827469942, 29.452156557535613, 48.22703432345641]\n"
          ]
        }
      ]
    }
  ]
}