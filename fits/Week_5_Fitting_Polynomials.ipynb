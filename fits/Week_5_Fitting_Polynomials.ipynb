{
  "nbformat": 4,
  "nbformat_minor": 0,
  "metadata": {
    "colab": {
      "provenance": [],
      "collapsed_sections": [],
      "toc_visible": true,
      "authorship_tag": "ABX9TyN1H9qSXoNSV911p1fHnQuO",
      "include_colab_link": true
    },
    "kernelspec": {
      "name": "python3",
      "display_name": "Python 3"
    }
  },
  "cells": [
    {
      "cell_type": "markdown",
      "metadata": {
        "id": "view-in-github",
        "colab_type": "text"
      },
      "source": [
        "<a href=\"https://colab.research.google.com/github/mdaugherity/Numerical2022/blob/main/fits/Week_5_Fitting_Polynomials.ipynb\" target=\"_parent\"><img src=\"https://colab.research.google.com/assets/colab-badge.svg\" alt=\"Open In Colab\"/></a>"
      ]
    },
    {
      "cell_type": "markdown",
      "source": [
        "**Dr. Daugherity, PHYS 351, Fall 2022**"
      ],
      "metadata": {
        "id": "8xEGjx1UcNvp"
      }
    },
    {
      "cell_type": "code",
      "metadata": {
        "id": "fMLdPZPNUofq"
      },
      "source": [
        "import numpy as np\n",
        "import matplotlib.pyplot as plt"
      ],
      "execution_count": 1,
      "outputs": []
    },
    {
      "cell_type": "markdown",
      "metadata": {
        "id": "FZHJMpX3UMgi"
      },
      "source": [
        "# Fitting Polynomials\n",
        "\n",
        "One interesting application of root finding is **Least Squares Fitting**:\n",
        "Given $N$ data points $(x_i,y_i)$, find the **best** parameters of a function $f(x)$ that fits the data.    \n",
        "\n",
        "Our definition of *best* here is to define an error for each point called the **residual** $r_i = f(x_i)-y_i$.  Then the **sum of errors squared** $S=\\sum{r_i^2}$.  The best fit minimizes $S$, i.e. the **least** sum of error **squares**, or just least squares for short.  \n",
        "\n",
        "If my function has one parameter to adjust $A$, then to minimize $S$ we need $\\frac{dS}{dA}=0$.  We can analytically solve this for $A$.  The math gets gross for more complicated fitting functions, but this is a solved problem for any polynomial (using a devious linear algebra trick).  \n",
        "\n",
        "For now, learn how to use the **polyfit** and **polyval** commands.  References:\n",
        "* https://numpy.org/doc/stable/reference/generated/numpy.polyfit.html\n",
        "* https://numpy.org/doc/stable/reference/generated/numpy.polyval.html#numpy.polyval\n",
        "\n",
        "(Note: Yes, I know that these functions are technically deprecated.  The replacements are really annoying to use, especially considering the domain and window mappings: see [here](https://numpy.org/doc/stable/reference/routines.polynomials.html).  For now, I'm sticking with these.)\n"
      ]
    },
    {
      "cell_type": "markdown",
      "metadata": {
        "id": "CsPyLd-ammpN"
      },
      "source": [
        "# polyfit and polyval\n",
        "\n",
        "Start with known linear data and fit it with a first-degree polynomial"
      ]
    },
    {
      "cell_type": "code",
      "metadata": {
        "colab": {
          "base_uri": "https://localhost:8080/",
          "height": 301
        },
        "id": "B2maTy-Al_Oc",
        "outputId": "d6bbf0c8-0ca8-4beb-a70f-ec85c4d0c6ab"
      },
      "source": [
        "xdata = np.arange(0,5)\n",
        "m = 2\n",
        "b = 5\n",
        "ydata = m*xdata + b \n",
        "p = np.polyfit(xdata,ydata,1)\n",
        "print('Actual:\\t',m,b)\n",
        "print('Fit:\\t',p)\n",
        "\n",
        "x = np.linspace(0,4)\n",
        "y = np.polyval(p, x)\n",
        "\n",
        "plt.plot(xdata,ydata,'bs')\n",
        "plt.plot(x,y,'g--')\n",
        "plt.show()"
      ],
      "execution_count": 2,
      "outputs": [
        {
          "output_type": "stream",
          "name": "stdout",
          "text": [
            "Actual:\t 2 5\n",
            "Fit:\t [2. 5.]\n"
          ]
        },
        {
          "output_type": "display_data",
          "data": {
            "text/plain": [
              "<Figure size 432x288 with 1 Axes>"
            ],
            "image/png": "[encoded data removed]"
          },
          "metadata": {
            "needs_background": "light"
          }
        }
      ]
    },
    {
      "cell_type": "code",
      "metadata": {
        "colab": {
          "base_uri": "https://localhost:8080/",
          "height": 284
        },
        "id": "5AbNBI8Jno1d",
        "outputId": "2209e1a4-f42f-46cf-dffc-325d26090e82"
      },
      "source": [
        "# 2nd Degree Polys\n",
        "\n",
        "xdata = np.arange(0,5)\n",
        "a = 5\n",
        "b = -6\n",
        "c = 2\n",
        "ydata = a*xdata**2 + b*xdata + c \n",
        "p = np.polyfit(xdata,ydata,2)\n",
        "print(p)\n",
        "\n",
        "x = np.linspace(0,4)\n",
        "y = np.polyval(p, x)\n",
        "\n",
        "plt.plot(xdata,ydata,'bs')\n",
        "plt.plot(x,y,'g--')\n",
        "plt.show()"
      ],
      "execution_count": 3,
      "outputs": [
        {
          "output_type": "stream",
          "name": "stdout",
          "text": [
            "[ 5. -6.  2.]\n"
          ]
        },
        {
          "output_type": "display_data",
          "data": {
            "text/plain": [
              "<Figure size 432x288 with 1 Axes>"
            ],
            "image/png": "[encoded data removed]"
          },
          "metadata": {
            "needs_background": "light"
          }
        }
      ]
    },
    {
      "cell_type": "markdown",
      "metadata": {
        "id": "xuebxATx7tgt"
      },
      "source": [
        "# FITTING WITH ERRORS\n",
        "\n",
        "Two common ways to generate random numbers using np.random module:\n",
        "\n",
        "* rand = random numbers from 0 to 1\n",
        "* randn = \"normal\" (i.e. Gaussian) random with mean=1 and stdev = 1\n"
      ]
    },
    {
      "cell_type": "code",
      "metadata": {
        "colab": {
          "base_uri": "https://localhost:8080/"
        },
        "id": "i6bZIi8O7_Mk",
        "outputId": "6c649db5-f6bd-4077-9ba4-ac48065917d1"
      },
      "source": [
        "np.random.randn(10)"
      ],
      "execution_count": 4,
      "outputs": [
        {
          "output_type": "execute_result",
          "data": {
            "text/plain": [
              "array([-1.34263624, -0.48861659, -0.48606725,  0.26037962,  1.4554333 ,\n",
              "        0.32560851, -0.14702745, -0.30091377, -2.20738733,  0.54725269])"
            ]
          },
          "metadata": {},
          "execution_count": 4
        }
      ]
    },
    {
      "cell_type": "code",
      "metadata": {
        "colab": {
          "base_uri": "https://localhost:8080/",
          "height": 283
        },
        "id": "_KVV7lPl7rB9",
        "outputId": "723825d9-b238-4a04-8614-7b847f26121b"
      },
      "source": [
        "NUM = 10\n",
        "xdata = np.linspace(0, 10, num=NUM)\n",
        "error = np.random.randn(NUM)\n",
        "\n",
        "a = 4\n",
        "b = -7\n",
        "c = 3\n",
        "ydata = a*xdata**2 + b*xdata + c + error\n",
        "p = np.polyfit(xdata,ydata,2)\n",
        "print(p)\n",
        "\n",
        "x = np.linspace(0,10)\n",
        "y = np.polyval(p, x)\n",
        "\n",
        "plt.plot(xdata,ydata,'bs')\n",
        "plt.plot(x,y,'g--')\n",
        "plt.show()"
      ],
      "execution_count": 5,
      "outputs": [
        {
          "output_type": "stream",
          "name": "stdout",
          "text": [
            "[ 3.95489271 -6.57764406  3.14068173]\n"
          ]
        },
        {
          "output_type": "display_data",
          "data": {
            "text/plain": [
              "<Figure size 432x288 with 1 Axes>"
            ],
            "image/png": "[encoded data removed]"
          },
          "metadata": {
            "needs_background": "light"
          }
        }
      ]
    }
  ]
}