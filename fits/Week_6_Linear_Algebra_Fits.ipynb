{
  "nbformat": 4,
  "nbformat_minor": 0,
  "metadata": {
    "colab": {
      "provenance": [],
      "collapsed_sections": [],
      "toc_visible": true,
      "authorship_tag": "ABX9TyN83AZFadeRd8woQe8d8LHi",
      "include_colab_link": true
    },
    "kernelspec": {
      "name": "python3",
      "display_name": "Python 3"
    }
  },
  "cells": [
    {
      "cell_type": "markdown",
      "metadata": {
        "id": "view-in-github",
        "colab_type": "text"
      },
      "source": [
        "<a href=\"https://colab.research.google.com/github/mdaugherity/Numerical2022/blob/main/fits/Week_6_Linear_Algebra_Fits.ipynb\" target=\"_parent\"><img src=\"https://colab.research.google.com/assets/colab-badge.svg\" alt=\"Open In Colab\"/></a>"
      ]
    },
    {
      "cell_type": "markdown",
      "source": [
        "**Dr. Daugherity, PHYS 351, Fall 2022**"
      ],
      "metadata": {
        "id": "QZhiUjfhyYdt"
      }
    },
    {
      "cell_type": "code",
      "metadata": {
        "id": "GpTxIq1_xrV_"
      },
      "source": [
        "import numpy as np\n",
        "import matplotlib.pyplot as plt\n",
        "from scipy.optimize import curve_fit"
      ],
      "execution_count": 10,
      "outputs": []
    },
    {
      "cell_type": "markdown",
      "metadata": {
        "id": "yf6XGAxsq4AW"
      },
      "source": [
        "# LINEAR ALGEBRA LEAST-SQUARES FITS\n",
        "\n",
        "A = augmented (nx2) matrix:  col[0]=$x_i$,  col[1]=1\n",
        "\n",
        "c = (2x1) matrix, 2 parameters [a,b]   for y=ax+b\n",
        "\n",
        "y = (nx1) matrix $y_i$\n",
        "\n",
        "\n",
        "Use $  (A^TA)c=A^Ty $ and solve for c\n",
        "\n",
        "Note that this CAN be extended to other polynomials.\n",
        "\n"
      ]
    },
    {
      "cell_type": "code",
      "metadata": {
        "colab": {
          "base_uri": "https://localhost:8080/",
          "height": 301
        },
        "id": "kJ32WnJyq7va",
        "outputId": "32d58bf7-2c2d-475d-9342-cd887f170729"
      },
      "source": [
        "# RIGHT ANSWER\n",
        "NUM = 10\n",
        "xdata = np.arange(0,NUM)\n",
        "m = -2\n",
        "b = 3\n",
        "ydata = -2*xdata + 3 + 0.5*np.random.randn(NUM)\n",
        "print('ACTUAL:\\t',m,b)\n",
        "p = np.polyfit(xdata,ydata,deg=1)\n",
        "print('POLYFIT\\t',p)\n",
        "xfit = np.linspace(0,NUM)\n",
        "yfit = np.polyval(p,xfit)\n",
        "\n",
        "plt.plot(xdata,ydata,'ks')\n",
        "plt.plot(xfit,yfit,'b-')\n",
        "\n",
        "plt.show()"
      ],
      "execution_count": 2,
      "outputs": [
        {
          "output_type": "stream",
          "name": "stdout",
          "text": [
            "ACTUAL:\t -2 3\n",
            "POLYFIT\t [-1.94818241  2.6713617 ]\n"
          ]
        },
        {
          "output_type": "display_data",
          "data": {
            "text/plain": [
              "<Figure size 432x288 with 1 Axes>"
            ],
            "image/png": "[encoded data removed]"
          },
          "metadata": {
            "needs_background": "light"
          }
        }
      ]
    },
    {
      "cell_type": "markdown",
      "metadata": {
        "id": "79iRcNEJcqiW"
      },
      "source": [
        "## LINEAR ALGEBRA VERSION\n",
        "Will give identical results to polyfit.\n",
        "\n",
        "NOTE: the *reshape(m,n)* command will change a matrix to have dimensions m by n.  Either m or n can be replaced by a -1 which means \"make this the appropriate size so my matrix has the right number of elements\".  \n",
        "\n",
        "* reshape(-1,1) creates an nx1 (column) matrix\n",
        "* reshape(1,-1) creats an 1xn (row) matrix"
      ]
    },
    {
      "cell_type": "code",
      "metadata": {
        "colab": {
          "base_uri": "https://localhost:8080/"
        },
        "id": "BXXHhbJOb9tj",
        "outputId": "eaa1502d-8c23-415c-b6b9-21ca3083f06c"
      },
      "source": [
        "# LINEAR ALGEBRA VERSION\n",
        "\n",
        "# DEFINE MATRICES\n",
        "A = np.ones((NUM,2))  # A: first column is xdata, second column is 1's \n",
        "A[:,0] = xdata  \n",
        "print(A)\n",
        "\n",
        "y = ydata.reshape(-1,1) # y: (nx1) column matrix of ydata\n",
        "print(y)"
      ],
      "execution_count": 3,
      "outputs": [
        {
          "output_type": "stream",
          "name": "stdout",
          "text": [
            "[[0. 1.]\n",
            " [1. 1.]\n",
            " [2. 1.]\n",
            " [3. 1.]\n",
            " [4. 1.]\n",
            " [5. 1.]\n",
            " [6. 1.]\n",
            " [7. 1.]\n",
            " [8. 1.]\n",
            " [9. 1.]]\n",
            "[[  2.61576655]\n",
            " [  0.45390631]\n",
            " [ -1.30570808]\n",
            " [ -3.23829003]\n",
            " [ -5.12867174]\n",
            " [ -6.21596268]\n",
            " [ -8.7634042 ]\n",
            " [-11.44837071]\n",
            " [-12.47990204]\n",
            " [-15.44395486]]\n"
          ]
        }
      ]
    },
    {
      "cell_type": "code",
      "metadata": {
        "colab": {
          "base_uri": "https://localhost:8080/"
        },
        "id": "lNBJYbB9camx",
        "outputId": "84292547-0753-4cc4-da51-d158ef7ccfa4"
      },
      "source": [
        "# Construct \"normal\" forms\n",
        "ANORM = A.T @ A\n",
        "#print(ANORM)\n",
        "BNORM = A.T @ y\n",
        "#print(BNORM)\n",
        "c = np.linalg.solve(ANORM,BNORM) # c is our solution\n",
        "\n",
        "print('ACTUAL:\\t',m,b)\n",
        "print('POLYFIT\\t',p)\n",
        "print('LIN ALG\\t',c.T)"
      ],
      "execution_count": 4,
      "outputs": [
        {
          "output_type": "stream",
          "name": "stdout",
          "text": [
            "ACTUAL:\t -2 3\n",
            "POLYFIT\t [-1.94818241  2.6713617 ]\n",
            "LIN ALG\t [[-1.94818241  2.6713617 ]]\n"
          ]
        }
      ]
    },
    {
      "cell_type": "markdown",
      "source": [
        "# Fitting Methods Extravaganza\n",
        "Demonstrate consistent results doing a linear fit in a whole bunch of ways. This is really for educational purposes only--for a real problem I would just use *polyfit* and *curve_fit*"
      ],
      "metadata": {
        "id": "QJzOvfG1yozr"
      }
    },
    {
      "cell_type": "code",
      "source": [
        "# Make Data\n",
        "NUM = 10\n",
        "xdata = np.arange(0,NUM)\n",
        "slope = 2\n",
        "yint = -1\n",
        "ydata = slope*xdata + yint + 0.5*np.random.randn(NUM)\n",
        "\n",
        "print('Actual Slope\\t',slope)\n",
        "print('Actual y-int\\t',yint)\n",
        "\n",
        "plt.title('Fake Data')\n",
        "plt.plot(xdata,ydata,'ks')\n",
        "plt.show()"
      ],
      "metadata": {
        "colab": {
          "base_uri": "https://localhost:8080/",
          "height": 317
        },
        "id": "Og8g-IQMBkGS",
        "outputId": "eeffeb6f-4a27-426a-d7d9-665e8a93d048"
      },
      "execution_count": 5,
      "outputs": [
        {
          "output_type": "stream",
          "name": "stdout",
          "text": [
            "Actual Slope\t 2\n",
            "Actual y-int\t -1\n"
          ]
        },
        {
          "output_type": "display_data",
          "data": {
            "text/plain": [
              "<Figure size 432x288 with 1 Axes>"
            ],
            "image/png": "[encoded data removed]"
          },
          "metadata": {
            "needs_background": "light"
          }
        }
      ]
    },
    {
      "cell_type": "markdown",
      "source": [
        "## polyfit"
      ],
      "metadata": {
        "id": "x5jgvA3MEuuM"
      }
    },
    {
      "cell_type": "code",
      "source": [
        "# Polyfit\n",
        "p = np.polyfit(xdata,ydata,deg=1)\n",
        "print(p)\n",
        "\n",
        "xfit = np.linspace(0,NUM)\n",
        "yfit = np.polyval(p,xfit)\n",
        "\n",
        "plt.plot(xdata,ydata,'ks')\n",
        "plt.plot(xfit,yfit,'b-')\n",
        "\n",
        "plt.title('Polyfit')\n",
        "plt.show()"
      ],
      "metadata": {
        "colab": {
          "base_uri": "https://localhost:8080/",
          "height": 299
        },
        "id": "sQvupHo1CDbr",
        "outputId": "2416f178-c3ac-4361-f24d-2018a0a77047"
      },
      "execution_count": 6,
      "outputs": [
        {
          "output_type": "stream",
          "name": "stdout",
          "text": [
            "[ 1.93180879 -0.63309933]\n"
          ]
        },
        {
          "output_type": "display_data",
          "data": {
            "text/plain": [
              "<Figure size 432x288 with 1 Axes>"
            ],
            "image/png": "[encoded data removed]"
          },
          "metadata": {
            "needs_background": "light"
          }
        }
      ]
    },
    {
      "cell_type": "markdown",
      "source": [
        "## Analytic Solution\n",
        "Solving the least squares fit equations by requiring the derivatives of the sum of square errors to be zero with respect to the fit parameters.\n"
      ],
      "metadata": {
        "id": "aNS2Srh0DGie"
      }
    },
    {
      "cell_type": "code",
      "source": [
        "xbar = xdata.mean()\n",
        "ybar = ydata.mean()\n",
        "slope_calc = (ydata*(xdata - xbar)).sum() / (xdata*(xdata - xbar)).sum()\n",
        "yint_calc = ybar - slope_calc*xbar\n",
        "print(slope_calc, yint_calc)"
      ],
      "metadata": {
        "colab": {
          "base_uri": "https://localhost:8080/"
        },
        "id": "B0N-8NsFDiD5",
        "outputId": "3cbbdc90-24a4-4f51-9d3f-bc667e92e1cf"
      },
      "execution_count": 7,
      "outputs": [
        {
          "output_type": "stream",
          "name": "stdout",
          "text": [
            "1.9318087907906265 -0.6330993282976163\n"
          ]
        }
      ]
    },
    {
      "cell_type": "markdown",
      "metadata": {
        "id": "LRUiVxDEy6pD"
      },
      "source": [
        "## LINEAR ALGEBRA LEAST-SQUARES FITS\n",
        "\n",
        "A = augmented (nx2) matrix:  col[0]=$x_i$,  col[1]=1\n",
        "\n",
        "c = (2x1) matrix, 2 parameters [a,b]   for y=ax+b\n",
        "\n",
        "y = (nx1) matrix $y_i$\n",
        "\n",
        "\n",
        "Use $  (A^TA)c=A^Ty $ and solve for c\n",
        "\n"
      ]
    },
    {
      "cell_type": "code",
      "metadata": {
        "colab": {
          "base_uri": "https://localhost:8080/"
        },
        "outputId": "e2a8d37e-d520-4c51-9484-6584f86d10dd",
        "id": "EX7pM5gcy6pG"
      },
      "source": [
        "# LINEAR ALGEBRA VERSION\n",
        "\n",
        "# DEFINE MATRICES\n",
        "A = np.ones((NUM,2))  # A: first column is xdata, second column is 1's \n",
        "A[:,0] = xdata  \n",
        "#print(A)\n",
        "\n",
        "y = ydata.reshape(-1,1) # y: (nx1) column matrix of ydata\n",
        "#print(y)\n",
        "\n",
        "# Construct \"normal\" forms\n",
        "ANORM = A.T @ A\n",
        "#print(ANORM)\n",
        "BNORM = A.T @ y\n",
        "#print(BNORM)\n",
        "c = np.linalg.solve(ANORM,BNORM) # c is our solution\n",
        "\n",
        "#print('ACTUAL:\\t',m,b)\n",
        "#print('POLYFIT\\t',p)\n",
        "print('LIN ALG\\t',c.T)\n"
      ],
      "execution_count": 8,
      "outputs": [
        {
          "output_type": "stream",
          "name": "stdout",
          "text": [
            "LIN ALG\t [[ 1.93180879 -0.63309933]]\n"
          ]
        }
      ]
    },
    {
      "cell_type": "markdown",
      "source": [
        "## curve fit"
      ],
      "metadata": {
        "id": "oQrrTaUqEe_M"
      }
    },
    {
      "cell_type": "code",
      "source": [
        "def fitfun(x,m,b):\n",
        "  return m*x+b\n",
        "\n",
        "popt, pcov = curve_fit(fitfun,xdata,ydata)\n",
        "print(popt)\n",
        "\n",
        "xfit = np.linspace(0,NUM)\n",
        "yfit = fitfun(xfit, *popt) # *popt unpacks array into function args\n",
        "\n",
        "plt.plot(xdata,ydata,'ks')\n",
        "plt.plot(xfit,yfit,'b-')"
      ],
      "metadata": {
        "colab": {
          "base_uri": "https://localhost:8080/",
          "height": 301
        },
        "id": "RnWnTP6KEelw",
        "outputId": "c3f3a468-71da-45ed-ee11-666febae4ea0"
      },
      "execution_count": 11,
      "outputs": [
        {
          "output_type": "stream",
          "name": "stdout",
          "text": [
            "[ 1.93180879 -0.63309933]\n"
          ]
        },
        {
          "output_type": "execute_result",
          "data": {
            "text/plain": [
              "[<matplotlib.lines.Line2D at 0x7f5a23619b10>]"
            ]
          },
          "metadata": {},
          "execution_count": 11
        },
        {
          "output_type": "display_data",
          "data": {
            "text/plain": [
              "<Figure size 432x288 with 1 Axes>"
            ],
            "image/png": "[encoded data removed]"
          },
          "metadata": {
            "needs_background": "light"
          }
        }
      ]
    },
    {
      "cell_type": "markdown",
      "source": [
        "## SUMMARY"
      ],
      "metadata": {
        "id": "5RwycVspExBl"
      }
    },
    {
      "cell_type": "code",
      "source": [
        "print('ACTUAL\\t',slope,yint)\n",
        "print('polyfit\\t',p)\n",
        "print('LSQcalc\\t',np.array([slope_calc, yint_calc]))\n",
        "print('LIN ALG\\t',c.T[0])\n",
        "print('Fit\\t',popt)  "
      ],
      "metadata": {
        "colab": {
          "base_uri": "https://localhost:8080/"
        },
        "id": "sM5s2p7EEwd9",
        "outputId": "29de04cc-b011-4f1c-fe1e-6f8cbb97b86b"
      },
      "execution_count": 12,
      "outputs": [
        {
          "output_type": "stream",
          "name": "stdout",
          "text": [
            "ACTUAL\t 2 -1\n",
            "polyfit\t [ 1.93180879 -0.63309933]\n",
            "LSQcalc\t [ 1.93180879 -0.63309933]\n",
            "LIN ALG\t [ 1.93180879 -0.63309933]\n",
            "Fit\t [ 1.93180879 -0.63309933]\n"
          ]
        }
      ]
    }
  ]
}