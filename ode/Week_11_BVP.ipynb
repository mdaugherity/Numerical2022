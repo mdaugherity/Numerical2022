{
  "nbformat": 4,
  "nbformat_minor": 0,
  "metadata": {
    "colab": {
      "provenance": [],
      "collapsed_sections": [],
      "authorship_tag": "ABX9TyMWgNCEfG1KRY8LLFA2s7ep",
      "include_colab_link": true
    },
    "kernelspec": {
      "name": "python3",
      "display_name": "Python 3"
    },
    "language_info": {
      "name": "python"
    }
  },
  "cells": [
    {
      "cell_type": "markdown",
      "metadata": {
        "id": "view-in-github",
        "colab_type": "text"
      },
      "source": [
        "<a href=\"https://colab.research.google.com/github/mdaugherity/Numerical2022/blob/main/ode/Week_11_BVP.ipynb\" target=\"_parent\"><img src=\"https://colab.research.google.com/assets/colab-badge.svg\" alt=\"Open In Colab\"/></a>"
      ]
    },
    {
      "cell_type": "markdown",
      "source": [
        "**Dr. Daugherity, PHYS 351, Fall 2022**"
      ],
      "metadata": {
        "id": "JIZAijDT6a2k"
      }
    },
    {
      "cell_type": "code",
      "metadata": {
        "id": "SzFuKkrJqV7w"
      },
      "source": [
        "import numpy as np\n",
        "import matplotlib.pyplot as plt\n",
        "from scipy.integrate import solve_ivp\n",
        "from scipy.integrate import solve_bvp"
      ],
      "execution_count": 1,
      "outputs": []
    },
    {
      "cell_type": "markdown",
      "metadata": {
        "id": "wEnQ3kazqftj"
      },
      "source": [
        "# EXAMPLE 1 - IVP vs BVP: 1D projectile motion\n",
        "\n",
        "y(t) = height of ball at time t\n",
        "\n",
        "y'' = -g"
      ]
    },
    {
      "cell_type": "markdown",
      "metadata": {
        "id": "cCAoZMOP2Jbq"
      },
      "source": [
        "## IVP Problem\n",
        "y(0) = 0, y'(0) = 15"
      ]
    },
    {
      "cell_type": "code",
      "metadata": {
        "colab": {
          "base_uri": "https://localhost:8080/",
          "height": 299
        },
        "id": "0WzG_KlBqj1V",
        "outputId": "77c8207e-b162-4329-f4d3-51a9e9213ac3"
      },
      "source": [
        "def f(t,yvec):\n",
        "  y = yvec[0]\n",
        "  v = yvec[1]\n",
        "  return [v, -9.8]\n",
        "\n",
        "y0 = [0, 15]  # Initial Values\n",
        "TMAX = 2\n",
        "\n",
        "t = np.linspace(0,TMAX, 50)\n",
        "ivp = solve_ivp(f, [0,TMAX], y0, t_eval = t)\n",
        "print(ivp.message)\n",
        "\n",
        "#t = ivp.t\n",
        "y = ivp.y[0]\n",
        "v = ivp.y[1]\n",
        "\n",
        "plt.plot(t,y,label='y')\n",
        "plt.plot(t,v,label='v')\n",
        "plt.legend()\n",
        "plt.grid()\n",
        "plt.title('IVP')\n",
        "plt.show()"
      ],
      "execution_count": 2,
      "outputs": [
        {
          "output_type": "stream",
          "name": "stdout",
          "text": [
            "The solver successfully reached the end of the integration interval.\n"
          ]
        },
        {
          "output_type": "display_data",
          "data": {
            "text/plain": [
              "<Figure size 432x288 with 1 Axes>"
            ],
            "image/png": "[encoded data removed]"
          },
          "metadata": {
            "needs_background": "light"
          }
        }
      ]
    },
    {
      "cell_type": "markdown",
      "metadata": {
        "id": "qJXBjVLntPPW"
      },
      "source": [
        "## SHOOTING METHOD!"
      ]
    },
    {
      "cell_type": "markdown",
      "metadata": {
        "id": "AzqJis6O2Pc8"
      },
      "source": [
        "Suppose instead of **initial values** $y(0), y'(0)$ we were given **boundary values** at different times.\n",
        "\n",
        "Calling *solve_ivp* requires the initial values, so we have to use root finding to \"shoot for\" the initial values that give us the boundary conditions we want!"
      ]
    },
    {
      "cell_type": "markdown",
      "metadata": {
        "id": "iaFbX-dI2xLl"
      },
      "source": [
        "## CASE 1:  y(0)=0, y(2)=10\n",
        "What initial speed does the ball have so that it is 10 m above the ground 2 seconds later?"
      ]
    },
    {
      "cell_type": "code",
      "metadata": {
        "id": "nTiRcKe-tRgE"
      },
      "source": [
        "# define a function to match BC\n",
        "# want y(2)=10\n",
        "def bc(v0):\n",
        "  y0 = [0, v0]  # Initial Values\n",
        "  ivp = solve_ivp(f, [0,TMAX], y0)\n",
        "  y = ivp.y[0]\n",
        "  yf = y[-1]\n",
        "  v = ivp.y[1]\n",
        "  vf = v[-1]\n",
        "  return yf - 10"
      ],
      "execution_count": 3,
      "outputs": []
    },
    {
      "cell_type": "code",
      "metadata": {
        "colab": {
          "base_uri": "https://localhost:8080/"
        },
        "id": "VbCaEvEZuLsq",
        "outputId": "a6e04645-905c-4ee7-c09c-56c1b3772882"
      },
      "source": [
        "# Play with function to estimate root\n",
        "bc(15)"
      ],
      "execution_count": 4,
      "outputs": [
        {
          "output_type": "execute_result",
          "data": {
            "text/plain": [
              "0.40000000000001457"
            ]
          },
          "metadata": {},
          "execution_count": 4
        }
      ]
    },
    {
      "cell_type": "code",
      "source": [
        "v0 = np.linspace(-10,50)\n",
        "res = np.zeros_like(v0)\n",
        "for i in range(len(v0)):\n",
        "  res[i] = bc(v0[i])\n",
        "\n",
        "plt.plot(v0, res)\n",
        "plt.grid()\n",
        "plt.show()"
      ],
      "metadata": {
        "colab": {
          "base_uri": "https://localhost:8080/",
          "height": 265
        },
        "id": "6LGATF-u29a5",
        "outputId": "fe2c81dc-4825-4bb9-a011-7b5046cdb4b1"
      },
      "execution_count": 5,
      "outputs": [
        {
          "output_type": "display_data",
          "data": {
            "text/plain": [
              "<Figure size 432x288 with 1 Axes>"
            ],
            "image/png": "[encoded data removed]"
          },
          "metadata": {
            "needs_background": "light"
          }
        }
      ]
    },
    {
      "cell_type": "code",
      "metadata": {
        "id": "vFgOsBuItuTS"
      },
      "source": [
        "from scipy.optimize import root_scalar"
      ],
      "execution_count": 6,
      "outputs": []
    },
    {
      "cell_type": "code",
      "metadata": {
        "colab": {
          "base_uri": "https://localhost:8080/"
        },
        "id": "LvQdHom3t9Ln",
        "outputId": "fee666b2-a372-457a-de82-e0ac3fabdf73"
      },
      "source": [
        "# root is a little less than 15.  Use initial guesses x0,x1\n",
        "sol = root_scalar(bc, x0=15, x1 = 14.9)\n",
        "print(sol)"
      ],
      "execution_count": 7,
      "outputs": [
        {
          "output_type": "stream",
          "name": "stdout",
          "text": [
            "      converged: True\n",
            "           flag: 'converged'\n",
            " function_calls: 3\n",
            "     iterations: 2\n",
            "           root: 14.799999999999995\n"
          ]
        }
      ]
    },
    {
      "cell_type": "code",
      "metadata": {
        "colab": {
          "base_uri": "https://localhost:8080/",
          "height": 299
        },
        "id": "JAMNgDW0uUmB",
        "outputId": "fdcb025f-5b36-4e85-9bea-731c1cdb4acc"
      },
      "source": [
        "# Now that we know the right value for vp0, run solve_ivp one final time\n",
        "yp0 = sol.root\n",
        "y0 = [0, yp0]  # Initial Values\n",
        "t = np.linspace(0,TMAX, 50)\n",
        "ivp = solve_ivp(f, [0,TMAX], y0, t_eval = t)\n",
        "print(ivp.message)\n",
        "\n",
        "y = ivp.y[0]\n",
        "v = ivp.y[1]\n",
        "\n",
        "plt.plot(t,y,label='y')\n",
        "plt.plot(t,v,label='v')\n",
        "plt.legend()\n",
        "plt.grid()\n",
        "plt.title('IVP')\n",
        "plt.show()"
      ],
      "execution_count": 8,
      "outputs": [
        {
          "output_type": "stream",
          "name": "stdout",
          "text": [
            "The solver successfully reached the end of the integration interval.\n"
          ]
        },
        {
          "output_type": "display_data",
          "data": {
            "text/plain": [
              "<Figure size 432x288 with 1 Axes>"
            ],
            "image/png": "[encoded data removed]"
          },
          "metadata": {
            "needs_background": "light"
          }
        }
      ]
    },
    {
      "cell_type": "markdown",
      "metadata": {
        "id": "AXOwcLTg34rY"
      },
      "source": [
        "Yes indeed, we ended up at y(2)=10"
      ]
    },
    {
      "cell_type": "markdown",
      "metadata": {
        "id": "g6_cGQm1ugt1"
      },
      "source": [
        "## CASE 2: y(0)=0, y'(2)=5\n",
        "\n",
        "We'll do the problem in a single cell this time"
      ]
    },
    {
      "cell_type": "code",
      "metadata": {
        "colab": {
          "base_uri": "https://localhost:8080/",
          "height": 387
        },
        "id": "0b8ReV2jumTw",
        "outputId": "eb2bba9e-c19f-45a9-83fd-a100d1e9c248"
      },
      "source": [
        "def bc(yp0):\n",
        "  y0 = [0, yp0]  # Initial Values\n",
        "  ivp = solve_ivp(f, [0,TMAX], y0)\n",
        "  return ivp.y[1][-1] - 5\n",
        "\n",
        "sol = root_scalar(bc, bracket=[0,100])  # using a huge bracket\n",
        "print(sol)\n",
        "yp0 = sol.root\n",
        "\n",
        "y0 = [0, yp0]  # Initial Values\n",
        "TMAX = 2\n",
        "t = np.linspace(0,TMAX, 50)\n",
        "ivp = solve_ivp(f, [0,TMAX], y0, t_eval = t)\n",
        "print(ivp.message)\n",
        "\n",
        "y = ivp.y[0]\n",
        "v = ivp.y[1]\n",
        "\n",
        "plt.plot(t,y,label='y')\n",
        "plt.plot(t,v,label='v')\n",
        "plt.grid()\n",
        "plt.legend()\n",
        "plt.title('BVP 2')\n",
        "plt.show()"
      ],
      "execution_count": 9,
      "outputs": [
        {
          "output_type": "stream",
          "name": "stdout",
          "text": [
            "      converged: True\n",
            "           flag: 'converged'\n",
            " function_calls: 4\n",
            "     iterations: 3\n",
            "           root: 24.6\n",
            "The solver successfully reached the end of the integration interval.\n"
          ]
        },
        {
          "output_type": "display_data",
          "data": {
            "text/plain": [
              "<Figure size 432x288 with 1 Axes>"
            ],
            "image/png": "[encoded data removed]"
          },
          "metadata": {
            "needs_background": "light"
          }
        }
      ]
    },
    {
      "cell_type": "markdown",
      "metadata": {
        "id": "9Jx4fthgxU-F"
      },
      "source": [
        "# EXAMPLE 8.2\n",
        "y'' = 4t - 4y\n",
        "what y'(0) gives y'(2)=0"
      ]
    },
    {
      "cell_type": "code",
      "metadata": {
        "colab": {
          "base_uri": "https://localhost:8080/",
          "height": 387
        },
        "id": "6qc8VKoZxgKw",
        "outputId": "dd2abfd0-7140-4e26-d531-7b2b8767049f"
      },
      "source": [
        "TMAX = 2\n",
        "\n",
        "def f(t,y):\n",
        "  y0 = y[0]\n",
        "  y1 = y[1]\n",
        "  return [y1, 4*t - 4*y0]\n",
        "\n",
        "def bc(yp0):\n",
        "  y0 = [0, yp0]  # Initial Values\n",
        "  ivp = solve_ivp(f, [0,TMAX], y0)\n",
        "  return ivp.y[1][-1] - 0\n",
        "\n",
        "sol = root_scalar(bc, bracket=[0,3])\n",
        "print(sol)\n",
        "yp0 = sol.root\n",
        "\n",
        "y0 = [0, yp0]  # Initial Values\n",
        "TMAX = 2\n",
        "t = np.linspace(0,TMAX, 50)\n",
        "ivp = solve_ivp(f, [0,TMAX], y0, t_eval = t)\n",
        "print(ivp.message)\n",
        "\n",
        "y = ivp.y[0]\n",
        "v = ivp.y[1]\n",
        "\n",
        "plt.plot(t,y,label='y')\n",
        "plt.plot(t,v, label='yp')\n",
        "plt.legend()\n",
        "plt.grid()\n",
        "plt.title('BVP 1')\n",
        "plt.show()"
      ],
      "execution_count": 10,
      "outputs": [
        {
          "output_type": "stream",
          "name": "stdout",
          "text": [
            "      converged: True\n",
            "           flag: 'converged'\n",
            " function_calls: 6\n",
            "     iterations: 5\n",
            "           root: 2.5312521828760755\n",
            "The solver successfully reached the end of the integration interval.\n"
          ]
        },
        {
          "output_type": "display_data",
          "data": {
            "text/plain": [
              "<Figure size 432x288 with 1 Axes>"
            ],
            "image/png": "[encoded data removed]"
          },
          "metadata": {
            "needs_background": "light"
          }
        }
      ]
    },
    {
      "cell_type": "code",
      "metadata": {
        "colab": {
          "base_uri": "https://localhost:8080/"
        },
        "id": "l0J14NjB4zEP",
        "outputId": "0dbf5e21-6e84-40e1-d3fb-0d26f526a07d"
      },
      "source": [
        "bc(3)"
      ],
      "execution_count": 11,
      "outputs": [
        {
          "output_type": "execute_result",
          "data": {
            "text/plain": [
              "-0.3062196542705997"
            ]
          },
          "metadata": {},
          "execution_count": 11
        }
      ]
    }
  ]
}