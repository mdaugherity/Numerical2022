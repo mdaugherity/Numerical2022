{
  "nbformat": 4,
  "nbformat_minor": 0,
  "metadata": {
    "colab": {
      "provenance": [],
      "authorship_tag": "ABX9TyMd79kq920a2jxyEdt3F7ml",
      "include_colab_link": true
    },
    "kernelspec": {
      "name": "python3",
      "display_name": "Python 3"
    },
    "language_info": {
      "name": "python"
    }
  },
  "cells": [
    {
      "cell_type": "markdown",
      "metadata": {
        "id": "view-in-github",
        "colab_type": "text"
      },
      "source": [
        "<a href=\"https://colab.research.google.com/github/mdaugherity/Numerical2022/blob/main/ode/Week_11_solvebvp_demo.ipynb\" target=\"_parent\"><img src=\"https://colab.research.google.com/assets/colab-badge.svg\" alt=\"Open In Colab\"/></a>"
      ]
    },
    {
      "cell_type": "markdown",
      "metadata": {
        "id": "hAgjKC6D5LVw"
      },
      "source": [
        "**Dr. Daugherity, PHYS 351, Fall 2022**"
      ]
    },
    {
      "cell_type": "code",
      "metadata": {
        "id": "SzFuKkrJqV7w"
      },
      "source": [
        "import numpy as np\n",
        "import matplotlib.pyplot as plt\n",
        "from scipy.integrate import solve_ivp\n",
        "from scipy.integrate import solve_bvp"
      ],
      "execution_count": null,
      "outputs": []
    },
    {
      "cell_type": "markdown",
      "metadata": {
        "id": "XkmzSrSQ5Rmx"
      },
      "source": [
        "# solve_bvp demo\n",
        "Will do the same problems as before using *scipy.integrate.solve_bvp*\n",
        "\n",
        "\n",
        "\n",
        "```\n",
        "scipy.integrate.solve_bvp(fun, bc, x, y, p=None)\n",
        "```\n",
        "\n",
        "https://docs.scipy.org/doc/scipy/reference/generated/scipy.integrate.solve_bvp.html\n",
        "\n"
      ]
    },
    {
      "cell_type": "markdown",
      "metadata": {
        "id": "wEnQ3kazqftj"
      },
      "source": [
        "# EXAMPLE 1 - 1D projectile motion\n",
        "\n",
        "y(t) = height of ball at time t\n",
        "\n",
        "y'' = -g"
      ]
    },
    {
      "cell_type": "markdown",
      "metadata": {
        "id": "iaFbX-dI2xLl"
      },
      "source": [
        "## CASE 1:  y(0)=0, y(2)=10\n",
        "What initial speed does the ball have so that it is 10 m above the ground 2 seconds later?"
      ]
    },
    {
      "cell_type": "code",
      "metadata": {
        "colab": {
          "base_uri": "https://localhost:8080/"
        },
        "id": "K7Hap_t17dfE",
        "outputId": "2a5bf1c5-a38f-4914-cdcc-16d5281b83b4"
      },
      "source": [
        "# Definitions:\n",
        "# x = 1D array with shape (m)\n",
        "# y = 2D array with shape (n,m) for n equations\n",
        "\n",
        "# Define y=[y0, y1] so n=2 with y0=y(t), y1=y0'\n",
        "def fun(x,y):  # derivative function, returns y' with shape (n,m)\n",
        "  return np.vstack((y[1], -9.8*np.ones_like(x)))\n",
        "\n",
        "def bc(ya,yb): # BC residuals for y at both endpoints, returns shape (n)\n",
        "  # BC: y[0]=0,  y[2]=10   (ya is y at t=0, yb is y at tf)\n",
        "  return np.array([ya[0], yb[0]-10])\n",
        "\n",
        "# Initial values\n",
        "TMAX = 2\n",
        "x = np.linspace(0,2,6)\n",
        "y0 = np.zeros((2,x.size))  # initial guess:  y is shape (n,m)\n",
        "\n",
        "sol = solve_bvp(fun, bc, x, y0)\n",
        "print(sol)"
      ],
      "execution_count": null,
      "outputs": [
        {
          "output_type": "stream",
          "name": "stdout",
          "text": [
            "       message: 'The algorithm converged to the desired accuracy.'\n",
            "         niter: 1\n",
            "             p: None\n",
            " rms_residuals: array([1.79962121e-16, 1.73175144e-16, 1.15365450e-16, 0.00000000e+00,\n",
            "       1.18309373e-15])\n",
            "           sol: <scipy.interpolate.interpolate.PPoly object at 0x7f8da7117770>\n",
            "        status: 0\n",
            "       success: True\n",
            "             x: array([0. , 0.4, 0.8, 1.2, 1.6, 2. ])\n",
            "             y: array([[ 1.33226763e-15,  5.13600000e+00,  8.70400000e+00,\n",
            "         1.07040000e+01,  1.11360000e+01,  1.00000000e+01],\n",
            "       [ 1.48000000e+01,  1.08800000e+01,  6.96000000e+00,\n",
            "         3.04000000e+00, -8.80000000e-01, -4.80000000e+00]])\n",
            "            yp: array([[14.8 , 10.88,  6.96,  3.04, -0.88, -4.8 ],\n",
            "       [-9.8 , -9.8 , -9.8 , -9.8 , -9.8 , -9.8 ]])\n"
          ]
        }
      ]
    },
    {
      "cell_type": "markdown",
      "metadata": {
        "id": "erGPSl_5_yGv"
      },
      "source": [
        "solve_bvp returns final y values, but it also gives a spline interpolation"
      ]
    },
    {
      "cell_type": "code",
      "metadata": {
        "colab": {
          "base_uri": "https://localhost:8080/",
          "height": 265
        },
        "id": "tgM7adgg_vBn",
        "outputId": "284bf1f3-7cdb-4856-ce5e-b4e420df0b4a"
      },
      "source": [
        "# Look at points\n",
        "t = x\n",
        "y = sol.y[0]\n",
        "v = sol.y[1]\n",
        "\n",
        "# Spline Interpolation\n",
        "ts = np.linspace(0,TMAX, 50)  # points to interpolate\n",
        "spl = sol.sol(ts)  # splines with shape (n,m)\n",
        "ys = spl[0]\n",
        "vs = spl[1]\n",
        "\n",
        "plt.plot(t,y,'bo', label='y points')\n",
        "plt.plot(ts,ys,'b-', label='y spline')\n",
        "plt.plot(t,v,'ro',label='v points')\n",
        "plt.plot(ts,vs,'r-',label='v spline')\n",
        "plt.legend()\n",
        "plt.grid()\n",
        "plt.show()"
      ],
      "execution_count": null,
      "outputs": [
        {
          "output_type": "display_data",
          "data": {
            "text/plain": [
              "<Figure size 432x288 with 1 Axes>"
            ],
            "image/png": "[encoded data removed]"
          },
          "metadata": {
            "needs_background": "light"
          }
        }
      ]
    },
    {
      "cell_type": "markdown",
      "metadata": {
        "id": "AXOwcLTg34rY"
      },
      "source": [
        "Yes indeed, we ended up at y(2)=10"
      ]
    },
    {
      "cell_type": "markdown",
      "metadata": {
        "id": "g6_cGQm1ugt1"
      },
      "source": [
        "## CASE 2: y(0)=0, y'(2)=5\n",
        "\n",
        "We'll do the problem in a single cell this time"
      ]
    },
    {
      "cell_type": "code",
      "metadata": {
        "colab": {
          "base_uri": "https://localhost:8080/",
          "height": 282
        },
        "id": "u6VebvdlCh48",
        "outputId": "8982f629-5d34-4b73-851b-a0ea300ebfe3"
      },
      "source": [
        "# Definitions:\n",
        "# x = 1D array with shape (m)\n",
        "# y = 2D array with shape (n,m) for n equations\n",
        "\n",
        "# Define y=[y0, y1] so n=2 with y0=y(t), y1=y0'\n",
        "def fun(x,y):  # derivative function, returns y' with shape (n,m)\n",
        "  return np.vstack((y[1], -9.8*np.ones_like(x)))\n",
        "\n",
        "def bc(ya,yb): # BC residuals for y at both endpoints, returns shape (n)\n",
        "  # BC: y[0]=0,  y'[2]=5   (ya is y at t=0, yb is y at tf)\n",
        "  return np.array([ya[0], yb[1]-5])\n",
        "\n",
        "# Initial values\n",
        "TMAX = 2\n",
        "x = np.linspace(0,2,6)\n",
        "y0 = np.zeros((2,x.size))  # initial guess:  y is shape (n,m)\n",
        "\n",
        "sol = solve_bvp(fun, bc, x, y0)\n",
        "print(sol.message)\n",
        "\n",
        "# Look at points\n",
        "t = sol.x\n",
        "y = sol.y[0]\n",
        "v = sol.y[1]\n",
        "\n",
        "# Spline Interpolation\n",
        "ts = np.linspace(0,TMAX, 50)  # points to interpolate\n",
        "spl = sol.sol(ts)  # splines with shape (n,m)\n",
        "ys = spl[0]\n",
        "vs = spl[1]\n",
        "\n",
        "plt.plot(t,y,'bo', label='y points')\n",
        "plt.plot(ts,ys,'b-', label='y spline')\n",
        "plt.plot(t,v,'ro',label='v points')\n",
        "plt.plot(ts,vs,'r-',label='v spline')\n",
        "plt.legend()\n",
        "plt.grid()\n",
        "plt.show()"
      ],
      "execution_count": null,
      "outputs": [
        {
          "output_type": "stream",
          "name": "stdout",
          "text": [
            "The algorithm converged to the desired accuracy.\n"
          ]
        },
        {
          "output_type": "display_data",
          "data": {
            "text/plain": [
              "<Figure size 432x288 with 1 Axes>"
            ],
            "image/png": "[encoded data removed]"
          },
          "metadata": {
            "needs_background": "light"
          }
        }
      ]
    },
    {
      "cell_type": "markdown",
      "metadata": {
        "id": "9Jx4fthgxU-F"
      },
      "source": [
        "# EXAMPLE 8.2\n",
        "y'' = 4t - 4y with BC y(0)=0 and y'(2)=0"
      ]
    },
    {
      "cell_type": "code",
      "metadata": {
        "colab": {
          "base_uri": "https://localhost:8080/",
          "height": 282
        },
        "id": "urwgY78fDKqg",
        "outputId": "e90f0451-81bb-4350-dff5-951c4ca23622"
      },
      "source": [
        "# Definitions:\n",
        "# x = 1D array with shape (m)\n",
        "# y = 2D array with shape (n,m) for n equations\n",
        "\n",
        "# Define y=[y0, y1] so n=2 with y0=y(t), y1=y0'\n",
        "def fun(x,y):  # derivative function, returns y' with shape (n,m)\n",
        "  return np.vstack((y[1], 4*x - 4*y[0]))\n",
        "\n",
        "def bc(ya,yb): # BC residuals for y at both endpoints, returns shape (n)\n",
        "  # BC: y[0]=0,  y'[2]=5   (ya is y at t=0, yb is y at tf)\n",
        "  return np.array([ya[0], yb[1]-0])\n",
        "\n",
        "# Initial values\n",
        "TMAX = 2\n",
        "x = np.linspace(0,2,10)\n",
        "y0 = np.zeros((2,x.size))  # initial guess:  y is shape (n,m)\n",
        "\n",
        "sol = solve_bvp(fun, bc, x, y0)\n",
        "print(sol.message)\n",
        "\n",
        "# Look at points\n",
        "t = sol.x\n",
        "y = sol.y[0]\n",
        "v = sol.y[1]\n",
        "\n",
        "# Spline Interpolation\n",
        "ts = np.linspace(0,TMAX, 50)  # points to interpolate\n",
        "spl = sol.sol(ts)  # splines with shape (n,m)\n",
        "ys = spl[0]\n",
        "vs = spl[1]\n",
        "\n",
        "plt.plot(t,y,'bo')\n",
        "plt.plot(ts,ys,'b-', label='y')\n",
        "plt.plot(t,v,'ro')\n",
        "plt.plot(ts,vs,'r-',label='dy')\n",
        "plt.legend()\n",
        "plt.grid()\n",
        "plt.show()"
      ],
      "execution_count": null,
      "outputs": [
        {
          "output_type": "stream",
          "name": "stdout",
          "text": [
            "The algorithm converged to the desired accuracy.\n"
          ]
        },
        {
          "output_type": "display_data",
          "data": {
            "text/plain": [
              "<Figure size 432x288 with 1 Axes>"
            ],
            "image/png": "[encoded data removed]"
          },
          "metadata": {
            "needs_background": "light"
          }
        }
      ]
    }
  ]
}