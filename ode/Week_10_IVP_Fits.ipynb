{
  "nbformat": 4,
  "nbformat_minor": 0,
  "metadata": {
    "colab": {
      "provenance": [],
      "authorship_tag": "ABX9TyOEwe2NMrotje8al5CQbMKO",
      "include_colab_link": true
    },
    "kernelspec": {
      "name": "python3",
      "display_name": "Python 3"
    },
    "language_info": {
      "name": "python"
    }
  },
  "cells": [
    {
      "cell_type": "markdown",
      "metadata": {
        "id": "view-in-github",
        "colab_type": "text"
      },
      "source": [
        "<a href=\"https://colab.research.google.com/github/mdaugherity/Numerical2022/blob/main/ode/Week_10_IVP_Fits.ipynb\" target=\"_parent\"><img src=\"https://colab.research.google.com/assets/colab-badge.svg\" alt=\"Open In Colab\"/></a>"
      ]
    },
    {
      "cell_type": "markdown",
      "source": [
        "**PHYS 351, Fall 2022, Dr. Daugherity** "
      ],
      "metadata": {
        "id": "Bbl1qsZ09gUL"
      }
    },
    {
      "cell_type": "code",
      "source": [
        "import numpy as np\n",
        "import matplotlib.pyplot as plt\n",
        "from scipy.integrate import solve_ivp\n",
        "from scipy.optimize import curve_fit"
      ],
      "metadata": {
        "id": "Vp52u2hm9rMP"
      },
      "execution_count": 1,
      "outputs": []
    },
    {
      "cell_type": "markdown",
      "source": [
        "# IVP Fitting Demo\n",
        "Suppose your ODE has a parameter that can be adjusted to fit data points.  This example shows how to combine *solve_ivp* and *curve_fit* together.\n",
        "\n",
        "Recall that *curve_fit* requires a function **f(x,p)** which returns the y-values at the given x-values for the parameters p.  We need to make this function call *solve_ivp* using *t_eval* to return the proper values.\n",
        "\n",
        "In this example, we are doing free-fall $y''=-g$ for an object being dropped from rest.  We will adjust gravity to fit the data"
      ],
      "metadata": {
        "id": "6TuM_o6T92YV"
      }
    },
    {
      "cell_type": "code",
      "execution_count": 3,
      "metadata": {
        "colab": {
          "base_uri": "https://localhost:8080/"
        },
        "id": "qhf7y6i19coO",
        "outputId": "675af9d8-a6c6-440d-c5df-1069da5a96d2"
      },
      "outputs": [
        {
          "output_type": "stream",
          "name": "stdout",
          "text": [
            "TRUE\t -10\n",
            "FIT\t -10.000000000000002\n"
          ]
        }
      ],
      "source": [
        "# Make fake data\n",
        "g_true = -10\n",
        "TMAX = 5\n",
        "tdata = np.arange(0,TMAX)\n",
        "y0 = 100\n",
        "ydata = y0 + 0.5 * g_true * tdata**2\n",
        "\n",
        "def f(t, yvec, a):  # solve_ivp derivative function\n",
        "  y = yvec[0]\n",
        "  v = yvec[1]\n",
        "  #a = -9.8\n",
        "  v0 = 0 \n",
        "  return [v, a]\n",
        "\n",
        "def calc_ivp(t, a):  # function for curve_fit\n",
        "  # uses solve_ivp to calculate pos at given times with acceleration a\n",
        "  tspan = [0,TMAX]\n",
        "  y0vec = [y0, 0]   # initial pos and vel\n",
        "  ivp = solve_ivp(f, tspan, y0vec, t_eval=tdata, args=[a])\n",
        "  y = ivp.y[0]\n",
        "  return y\n",
        "\n",
        "p0 = [0]  # initial guess\n",
        "popt, pcov = curve_fit(calc_ivp, tdata, ydata, p0)\n",
        "\n",
        "print('TRUE\\t', g_true)\n",
        "print('FIT\\t',popt[0])"
      ]
    },
    {
      "cell_type": "code",
      "source": [
        "# Make a lovely plot\n",
        "\n",
        "y =calc_ivp(tdata, popt[0])\n",
        "plt.plot(tdata, y, 'b-', label='IVP Fit')\n",
        "plt.plot(tdata, ydata, 'ko', label='data')\n",
        "\n",
        "plt.legend()\n",
        "plt.xlabel('t')\n",
        "plt.ylabel('y')\n",
        "plt.title('IVP FIt to Data Points')\n",
        "plt.show()"
      ],
      "metadata": {
        "colab": {
          "base_uri": "https://localhost:8080/",
          "height": 295
        },
        "id": "LX2hbyu3-63L",
        "outputId": "44a28260-6e9c-438d-c1f9-36524f6d2d07"
      },
      "execution_count": 6,
      "outputs": [
        {
          "output_type": "display_data",
          "data": {
            "text/plain": [
              "<Figure size 432x288 with 1 Axes>"
            ],
            "image/png": "[encoded data removed]"
          },
          "metadata": {
            "needs_background": "light"
          }
        }
      ]
    }
  ]
}